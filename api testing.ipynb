{
 "cells": [
  {
   "cell_type": "code",
   "execution_count": null,
   "id": "6f41836f",
   "metadata": {},
   "outputs": [],
   "source": [
    "import swagger_client\n",
    "from swagger_client.rest import ApiException\n",
    "from pprint import pprint\n",
    "import requests\n",
    "\n",
    "# Configure and create an API client\n",
    "# using an API token\n",
    "API_TOKEN = \"000b74d58339656029f052a32d6f9e11fae8321f\"\n",
    "MLP_URL = \"https://ml4dqm-playground.web.cern.ch\"\n",
    "\n",
    "DEVLOP_API_TOKEN= \"871450223ff7d809acdf6ffe8d11ef4a18a724c6\"\n",
    "MLP_DEVELOP_URL = \"https://ml4dqm-playground-develop.web.cern.ch\"\n",
    "\n",
    "configuration = swagger_client.Configuration()\n",
    "configuration.host = MLP_DEVELOP_URL\n",
    "client = swagger_client.ApiClient(configuration)\n",
    "client.set_default_header(header_name=\"Content-Type\", header_value=\"application/json\")\n",
    "client.set_default_header(header_name=\"Authorization\", header_value=f\"Token {DEVLOP_API_TOKEN}\")\n",
    "\n",
    "api_instance = swagger_client.ApiApi(client)"
   ]
  },
  {
   "cell_type": "code",
   "execution_count": null,
   "id": "4bd9fd99",
   "metadata": {},
   "outputs": [],
   "source": [
    "import matplotlib.pyplot as plt\n",
    "import awkward as ak\n",
    "import numpy as np\n",
    "import pandas as pd"
   ]
  },
  {
   "cell_type": "code",
   "execution_count": null,
   "id": "aa93f061",
   "metadata": {
    "scrolled": true
   },
   "outputs": [],
   "source": [
    "dir(api_instance)"
   ]
  },
  {
   "cell_type": "code",
   "execution_count": null,
   "id": "3730e967",
   "metadata": {},
   "outputs": [],
   "source": [
    "# Get by run number\n",
    "run_num = 315267\n",
    "lh1d = api_instance.list_lumisection_histogram1_ds(\n",
    "    lumisection__run__run_number=run_num\n",
    ") \n",
    "print(f\"Got {len(lh1d.results)} results!\\n\")\n",
    "pprint(lh1d)\n",
    "\n"
   ]
  },
  {
   "cell_type": "code",
   "execution_count": null,
   "id": "627c00cc",
   "metadata": {
    "scrolled": true
   },
   "outputs": [],
   "source": [
    "lh1d_df = pd.DataFrame.from_dict([result.to_dict() for result in lh1d.results])\n",
    "\n",
    "lh1d_df.head()"
   ]
  },
  {
   "cell_type": "code",
   "execution_count": null,
   "id": "51bd29ac",
   "metadata": {},
   "outputs": [],
   "source": [
    "ar = ak.Array([result.to_dict() for result in lh1d.results])"
   ]
  },
  {
   "cell_type": "code",
   "execution_count": null,
   "id": "37acaae9",
   "metadata": {},
   "outputs": [],
   "source": [
    "ar.fields"
   ]
  },
  {
   "cell_type": "code",
   "execution_count": null,
   "id": "abfb5c75",
   "metadata": {},
   "outputs": [],
   "source": [
    "ar"
   ]
  },
  {
   "cell_type": "code",
   "execution_count": null,
   "id": "58f7af49",
   "metadata": {
    "scrolled": true
   },
   "outputs": [],
   "source": [
    "for i in ar.data:\n",
    "    print(i)"
   ]
  },
  {
   "cell_type": "code",
   "execution_count": null,
   "id": "f04220d1",
   "metadata": {
    "scrolled": true
   },
   "outputs": [],
   "source": [
    "ar.title.tolistst()"
   ]
  },
  {
   "cell_type": "code",
   "execution_count": null,
   "id": "a98606d5",
   "metadata": {},
   "outputs": [],
   "source": [
    "logbins=np.logspace(0,7)\n",
    "\n",
    "plt.figure(dpi=100)\n",
    "plt.hist(ak.ravel(ar.data),\n",
    "        bins=logbins,log=False,\n",
    "        histtype='step');\n",
    "plt.xscale('log')"
   ]
  },
  {
   "cell_type": "code",
   "execution_count": null,
   "id": "2dd1a423",
   "metadata": {
    "scrolled": false
   },
   "outputs": [],
   "source": [
    "plt.figure(dpi=130)\n",
    "for i,nbins,minval,maxval,title in zip(ar.data,ar.x_bin,ar.x_min,ar.x_max,ar.title):\n",
    "    if 'tib' in title.lower() :\n",
    "        plt.plot(np.linspace(minval,maxval,nbins),i,lw=1,label=title) \n",
    "plt.legend(fontsize=7)\n",
    "# plt.yscale('log')\n",
    "plt.show()"
   ]
  },
  {
   "cell_type": "markdown",
   "id": "2d1c66f4",
   "metadata": {},
   "source": [
    "# Managing DQM Histogram Data Files\n",
    "\n",
    "DQM data files are `.csv` files (`.root` support for nanoDQM files will be added in the future) which contain:\n",
    "- Run Histograms or\n",
    "- Lumisection 1D Histograms or\n",
    "- Lumisection 2D Histograms\n",
    "\n",
    "They are represented in DQM Playground's database with the `HistogramDataFile` model. \n",
    "\n",
    "By default, these files are expected to reside in `/eos/project/c/cmsml4dc`. This directory is not being monitored for changes, and new files can only be discovered using a [custom Django Management command](https://cmstrackerdpg.github.io/cms-tkdpg-software-knowledge-transfer/mlplayground/apps/histogram_file_manager/management/). \n",
    "\n",
    "The contents of a Histogram Data Files are unknown, until a user starts parsing the file by specifying three options:\n",
    "- The `granularity` of the data (`run` or `lumisection`),\n",
    "- The `data_dimensionality` of the data (`1` for 1D or `2` for 2D) and\n",
    "- The file `file_format` (`csv` only available currently).\n",
    "\n",
    "Depending on the combination of the three options above, DQM Playground will try to extract the appropriate histograms from the Histogram Data File, namely:\n",
    "\n",
    "- `granularity=run`, `data_dimensionality=1` and `file_format=csv` will produce `RunHistogram`s,\n",
    "- `granularity=lum`, `data_dimensionality=1` and `file_format=csv` will produce `LumisectionHistogram1D`s,\n",
    "- `granularity=lum`, `data_dimensionality=2` and `file_format=csv` will produce `LumisectionHistogram2D`s.\n",
    "\n",
    "## Listing all the available Histogram Data Files\n",
    "\n",
    "To list all the Histogram Data Files that DQM Playground has discovered:"
   ]
  },
  {
   "cell_type": "code",
   "execution_count": null,
   "id": "3af2b161",
   "metadata": {},
   "outputs": [],
   "source": [
    "dir(api_instance)"
   ]
  },
  {
   "cell_type": "code",
   "execution_count": null,
   "id": "d32ce61f",
   "metadata": {},
   "outputs": [],
   "source": [
    "available_hdf = api_instance.list_histogram_data_files(page=1) # No filters supplied\n",
    "print(f\"Got {len(available_hdf.results)} Histogram Data Files\")  # Keep in mind that results are returned in pages of 50"
   ]
  },
  {
   "cell_type": "markdown",
   "id": "a16fd8d0",
   "metadata": {},
   "source": [
    "## Filtering histogram data files by filename\n",
    "For this example, we will try to get the status of the `ZeroBias_2017B_DataFrame_2D_17.csv` DQM file."
   ]
  },
  {
   "cell_type": "code",
   "execution_count": null,
   "id": "05c4b1bc",
   "metadata": {
    "scrolled": true
   },
   "outputs": [],
   "source": [
    "available_hdf = api_instance.list_histogram_data_files(filepath__contains=\"ZeroBias_2017B_DataFrame_2D_17\")\n",
    "print(available_hdf.results)"
   ]
  },
  {
   "cell_type": "markdown",
   "id": "9e067c7c",
   "metadata": {},
   "source": [
    "If parsing has already been started for this specific Histogram Data File, we will see the `data_dimensionality` and `granularity` values already set. If not, they will be unknown. \n",
    "\n",
    "Once parsing of the file has started, the total number of `run_histograms`, `lumisection_histograms_1d` or `lumisection_histograms_2d` that were extracted from this file will be available under the respective values in the response. \n",
    "\n",
    "Its parsing percentage can also be seen under the `percentage_processed` value.\n",
    "\n",
    "## Starting parsing a Histogram Data File\n",
    "To start parsing a Histogram Data file, we need:\n",
    "- Its unique `id`,\n",
    "- The `granularity` of the data contained (`run` or `lumisection`),\n",
    "- The `data_dimensionality` of the data (`1` for 1D or `2` for 2D) and\n",
    "- The file `file_format` (`csv`)."
   ]
  },
  {
   "cell_type": "code",
   "execution_count": null,
   "id": "a43f000c",
   "metadata": {},
   "outputs": [],
   "source": [
    "MLP_DEVELOP_URL"
   ]
  },
  {
   "cell_type": "code",
   "execution_count": null,
   "id": "5227b12b",
   "metadata": {},
   "outputs": [],
   "source": [
    "available_hdf = api_instance.list_histogram_data_files(filepath__contains=\"ZeroBias_2017B_DataFrame_2D_18\")\n",
    "file_id = available_hdf.results[0].id\n",
    "\n",
    "# TODO: Buggy generated code by swagger creates multiple definitions for start_parsing_histogram_data_file\n",
    "# body = {'granularity':'lum', 'data_dimensionality':2, 'file_format':'csv'}\n",
    "# success = api_instance.start_parsing_histogram_data_file(id=file_id, body=body)\n",
    "\n",
    "# Manually do the request for now\n",
    "r = requests.post(\n",
    "    f\"{MLP_DEVELOP_URL}/api/histogram_data_files/{file_id}/start_parsing/\",\n",
    "    headers={\"Content-Type\": \"application/json\", \"Authorization\": f\"Token {DEVLOP_API_TOKEN}\"},\n",
    "    json={'granularity':'lum', 'data_dimensionality':2, 'file_format':'csv'}\n",
    ")"
   ]
  },
  {
   "cell_type": "code",
   "execution_count": null,
   "id": "575b4379",
   "metadata": {
    "scrolled": true
   },
   "outputs": [],
   "source": [
    "dir(r)"
   ]
  },
  {
   "cell_type": "code",
   "execution_count": null,
   "id": "5aaeeb3a",
   "metadata": {},
   "outputs": [],
   "source": [
    "r"
   ]
  },
  {
   "cell_type": "code",
   "execution_count": null,
   "id": "d92c84ab",
   "metadata": {
    "scrolled": true
   },
   "outputs": [],
   "source": [
    "print(f\"Parsing for file {file_id} started: {r.ok}\")"
   ]
  },
  {
   "cell_type": "code",
   "execution_count": null,
   "id": "04405770",
   "metadata": {
    "scrolled": false
   },
   "outputs": [],
   "source": [
    "available_hdf"
   ]
  },
  {
   "cell_type": "code",
   "execution_count": null,
   "id": "cf9d77aa",
   "metadata": {
    "scrolled": true
   },
   "outputs": [],
   "source": [
    "for i in range(129,140):\n",
    "    temp = api_instance.list_histogram_data_files(page=i)\n",
    "    print(i)\n",
    "    if temp.next == None: print('No more pages'); break"
   ]
  },
  {
   "cell_type": "markdown",
   "id": "a3d47a5a",
   "metadata": {},
   "source": [
    "There are 137 pages with $\\approx$ 50 files each"
   ]
  },
  {
   "cell_type": "code",
   "execution_count": null,
   "id": "72a75c7c",
   "metadata": {},
   "outputs": [],
   "source": [
    "histo_files = api_instance.list_histogram_data_files(granularity='lum')"
   ]
  },
  {
   "cell_type": "code",
   "execution_count": null,
   "id": "96268aa5",
   "metadata": {
    "scrolled": true
   },
   "outputs": [],
   "source": [
    "histo_files"
   ]
  },
  {
   "cell_type": "code",
   "execution_count": null,
   "id": "3b9167b4",
   "metadata": {
    "scrolled": true
   },
   "outputs": [],
   "source": [
    "pd.DataFrame.from_dict([r.to_dict() for r in histo_files.results]).filepath.tolist()"
   ]
  },
  {
   "cell_type": "code",
   "execution_count": null,
   "id": "257ca4d3",
   "metadata": {},
   "outputs": [],
   "source": []
  },
  {
   "cell_type": "markdown",
   "id": "5d36b003",
   "metadata": {},
   "source": [
    "## Discovering new DQMIO files [Admins only]\n",
    "If new files are added in the directories that DQMIO files reside, they won't be automatically discovered by DQM Playground without forcing a new discovery process. To do so:"
   ]
  },
  {
   "cell_type": "code",
   "execution_count": null,
   "id": "0ebf4f31",
   "metadata": {},
   "outputs": [],
   "source": [
    "# Manually do the request for now\n",
    "r = requests.get(\n",
    "    f\"{MLP_DEVELOP_URL}/api/histogram_data_files/discover/\",\n",
    "    headers={\"Content-Type\": \"application/json\", \"Authorization\": f\"Token {DEVLOP_API_TOKEN}\"},\n",
    ")"
   ]
  },
  {
   "cell_type": "code",
   "execution_count": null,
   "id": "d1810eb7",
   "metadata": {},
   "outputs": [],
   "source": [
    "print(f\"Discovery started: {r.ok}\")"
   ]
  },
  {
   "cell_type": "code",
   "execution_count": null,
   "id": "f35d699a",
   "metadata": {},
   "outputs": [],
   "source": [
    "r.content"
   ]
  }
 ],
 "metadata": {
  "@webio": {
   "lastCommId": null,
   "lastKernelId": null
  },
  "kernelspec": {
   "display_name": "Python 3",
   "language": "python",
   "name": "python3"
  },
  "language_info": {
   "codemirror_mode": {
    "name": "ipython",
    "version": 3
   },
   "file_extension": ".py",
   "mimetype": "text/x-python",
   "name": "python",
   "nbconvert_exporter": "python",
   "pygments_lexer": "ipython3",
   "version": "3.9.12"
  }
 },
 "nbformat": 4,
 "nbformat_minor": 5
}
