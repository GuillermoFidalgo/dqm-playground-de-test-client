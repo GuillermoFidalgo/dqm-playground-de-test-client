{
 "cells": [
  {
   "cell_type": "markdown",
   "id": "caa4142b",
   "metadata": {},
   "source": [
    "Need to read lines one by one and copy files. \n",
    "Before copy need to check if file is already copied on the area `/eos/project/m/mlplayground`"
   ]
  },
  {
   "cell_type": "code",
   "execution_count": 1,
   "id": "ec170d88",
   "metadata": {},
   "outputs": [
    {
     "name": "stdout",
     "output_type": "stream",
     "text": [
      "dasgoclient -query=\"file dataset=/ZeroBias/Run2022A-19Jan2023-v2/DQMIO\" | grep \"/store\" > listfiles.txt\n",
      "dasgoclient -query=\"file dataset=/ZeroBias/Run2022B-19Jan2023-v2/DQMIO\" | grep \"/store\" >> listfiles.txt\n",
      "dasgoclient -query=\"file dataset=/ZeroBias/Run2022C-19Jan2023-v2/DQMIO\" | grep \"/store\" >> listfiles.txt\n",
      "dasgoclient -query=\"file dataset=/ZeroBias/Run2022D-19Jan2023-v2/DQMIO\" | grep \"/store\" >> listfiles.txt\n",
      "dasgoclient -query=\"file dataset=/ZeroBias/Run2022E-19Jan2023-v2/DQMIO\" | grep \"/store\" >> listfiles.txt\n",
      "dasgoclient -query=\"file dataset=/ZeroBias/Run2022F-19Jan2023-v2/DQMIO\" | grep \"/store\" >> listfiles.txt\n",
      "dasgoclient -query=\"file dataset=/ZeroBias/Run2022G-19Jan2023-v2/DQMIO\" | grep \"/store\" >> listfiles.txt\n"
     ]
    }
   ],
   "source": [
    "# IMPORTANT This file does not run form inside SWAN env. Only run this on a terminal in the working directory.\n",
    "\n",
    "# import subprocess\n",
    "\n",
    "eras = ['A','B','C','D','E','F','G']\n",
    "for i in eras:\n",
    "    \n",
    "    if i == 'A':\n",
    "        cmd = f'dasgoclient -query=\"file dataset=/ZeroBias/Run2022{i}-19Jan2023-v2/DQMIO\" | grep \"/store\" > listfiles.txt' \n",
    "    else:\n",
    "        cmd = f'dasgoclient -query=\"file dataset=/ZeroBias/Run2022{i}-19Jan2023-v2/DQMIO\" | grep \"/store\" >> listfiles.txt'\n",
    "    \n",
    "    # subprocess.run(cmd, shell=True, check=False)\n",
    "    print(cmd)"
   ]
  },
  {
   "cell_type": "code",
   "execution_count": 1,
   "id": "9f1e1e20",
   "metadata": {
    "scrolled": true
   },
   "outputs": [
    {
     "name": "stdout",
     "output_type": "stream",
     "text": [
      "175\n",
      "['/store/data/Run2022A/ZeroBias/DQMIO/19Jan2023-v2/30000/DD2CC4FA-EF58-49AF-9BFB-F0ABE41BC4F4.root', '/store/data/Run2022A/ZeroBias/DQMIO/19Jan2023-v2/30000/23F53374-C49D-4BBA-BAB7-05412999556A.root', '/store/data/Run2022A/ZeroBias/DQMIO/19Jan2023-v2/30000/18BE9BCB-8882-4E60-B021-AE2866470FA8.root', '/store/data/Run2022A/ZeroBias/DQMIO/19Jan2023-v2/30000/298E9DED-706B-4E7B-9A84-765AB5B70373.root', '/store/data/Run2022A/ZeroBias/DQMIO/19Jan2023-v2/2550000/B7C5D067-F538-42CE-9261-033D668E62D0.root']\n"
     ]
    }
   ],
   "source": [
    "import os\n",
    "\n",
    "f = open(\"listfiles.txt\",'r')\n",
    "files = [i.rstrip('\\n') for i in f.readlines()]\n",
    "f.close()\n",
    "del f\n",
    "totalnfiles=len(files)\n",
    "print(totalnfiles)\n",
    "print(files[slice(5)])"
   ]
  },
  {
   "cell_type": "code",
   "execution_count": 8,
   "id": "bf0827fc",
   "metadata": {},
   "outputs": [
    {
     "data": {
      "text/plain": [
       "'/eos/home-g/gfidalgo/SWAN_projects/dqm-playground-de-test-client/listDASfiles/listfiles.txt'"
      ]
     },
     "execution_count": 8,
     "metadata": {},
     "output_type": "execute_result"
    }
   ],
   "source": [
    "os.path.abspath('listfiles.txt')"
   ]
  },
  {
   "cell_type": "code",
   "execution_count": 5,
   "id": "627b79fa",
   "metadata": {},
   "outputs": [
    {
     "data": {
      "text/plain": [
       "'/store/data/Run2022B/ZeroBias/DQMIO/19Jan2023-v2/2550000'"
      ]
     },
     "execution_count": 5,
     "metadata": {},
     "output_type": "execute_result"
    }
   ],
   "source": [
    "outputdir=files[9].rpartition('/')[0]\n",
    "outputdir"
   ]
  },
  {
   "cell_type": "code",
   "execution_count": 22,
   "id": "4fd456da",
   "metadata": {},
   "outputs": [
    {
     "name": "stdout",
     "output_type": "stream",
     "text": [
      "store_data_Run2022A_ZeroBias_DQMIO_19Jan2023-v2_2550000_B7C5D067-F538-42CE-9261-033D668E62D0.root\n",
      "store_data_Run2022B_ZeroBias_DQMIO_19Jan2023-v2_2550000_BA306EFA-20CD-4656-9442-DE5DB377E5E4.root\n",
      "store_data_Run2022B_ZeroBias_DQMIO_19Jan2023-v2_2550000_9BE1219F-F76E-41AA-B2B6-70E683088D66.root\n",
      "store_data_Run2022B_ZeroBias_DQMIO_19Jan2023-v2_30000_85B17769-07CC-4D99-96A6-0C7638BF23EA.root\n",
      "store_data_Run2022B_ZeroBias_DQMIO_19Jan2023-v2_30000_2946B5DA-7867-4823-B759-0EB47ED244A3.root\n"
     ]
    }
   ],
   "source": [
    "for i in files[4:9]:\n",
    "    print(i.strip('/').replace('/','_'))"
   ]
  },
  {
   "cell_type": "code",
   "execution_count": 30,
   "id": "fc6336a0",
   "metadata": {},
   "outputs": [
    {
     "name": "stdout",
     "output_type": "stream",
     "text": [
      "ERROR: output directory dasfiles already exists\n",
      "Downloading to dasfiles\n",
      "Input number of files to copy: \t5\n",
      "Downloading only subset of 5 files into dasfiles\n",
      "Downloading store_data_Run2022A_ZeroBias_DQMIO_19Jan2023-v2_30000_DD2CC4FA-EF58-49AF-9BFB-F0ABE41BC4F4.root\n",
      "Downloading store_data_Run2022A_ZeroBias_DQMIO_19Jan2023-v2_30000_23F53374-C49D-4BBA-BAB7-05412999556A.root\n",
      "Downloading store_data_Run2022A_ZeroBias_DQMIO_19Jan2023-v2_30000_18BE9BCB-8882-4E60-B021-AE2866470FA8.root\n",
      "Downloading store_data_Run2022A_ZeroBias_DQMIO_19Jan2023-v2_30000_298E9DED-706B-4E7B-9A84-765AB5B70373.root\n",
      "Downloading store_data_Run2022A_ZeroBias_DQMIO_19Jan2023-v2_2550000_B7C5D067-F538-42CE-9261-033D668E62D0.root\n"
     ]
    }
   ],
   "source": [
    "def file_downloaded(filename,directory='./'):\n",
    "    return os.path.exists(directory.rstrip('/')+\"/\"+filename)\n",
    "\n",
    "\n",
    "\n",
    "outputdir = 'dasfiles'\n",
    "\n",
    "if os.path.exists(outputdir):\n",
    "    print(f'ERROR: output directory {outputdir} already exists\\nDownloading to {outputdir}')\n",
    "else:\n",
    "    os.makedirs(outputdir)\n",
    "\n",
    "TESTING = True\n",
    "\n",
    "if TESTING :\n",
    "    nfiles = int(input('Input number of files to copy: \\t'))\n",
    "    print(f\"Downloading only subset of {nfiles} files into {outputdir}\")\n",
    "else:\n",
    "    nfiles = None\n",
    "REDIR='root://cms-xrd-global.cern.ch/'\n",
    "for file in files[slice(nfiles)]:\n",
    "    cmd = f'xrdcp {REDIR}{file} {outputdir}'\n",
    "#     print(cmd)\n",
    "    fname = file.strip('/').replace('/','_')\n",
    "    if file_downloaded(fname,outputdir): \n",
    "        print(f'{fname} already present. Moving on the the next!!!')\n",
    "    else:\n",
    "        print(f'Downloading {fname}')\n",
    "              \n",
    "                                                       "
   ]
  },
  {
   "cell_type": "code",
   "execution_count": 38,
   "id": "3470471d",
   "metadata": {},
   "outputs": [
    {
     "name": "stdout",
     "output_type": "stream",
     "text": [
      "total 649M\r\n",
      "-rw-r--r--. 1 gfidalgo 1399  92M Apr  6 06:54 DD2CC4FA-EF58-49AF-9BFB-F0ABE41BC4F4.root\r\n",
      "-rw-r--r--. 1 gfidalgo 1399 243M Apr  6 06:58 23F53374-C49D-4BBA-BAB7-05412999556A.root\r\n",
      "-rw-r--r--. 1 gfidalgo 1399 137M Apr  6 06:58 18BE9BCB-8882-4E60-B021-AE2866470FA8.root\r\n",
      "-rw-r--r--. 1 gfidalgo 1399 157M Apr  6 06:58 298E9DED-706B-4E7B-9A84-765AB5B70373.root\r\n",
      "-rw-r--r--. 1 gfidalgo 1399  21M Apr  6 07:24 B7C5D067-F538-42CE-9261-033D668E62D0.root\r\n",
      "drwxr-xr-x. 2 gfidalgo 1399 4.0K Apr  6 07:24 .\r\n",
      "drwxr-xr-x. 2 gfidalgo 1399 4.0K Apr 24 01:33 ..\r\n"
     ]
    }
   ],
   "source": [
    "# ! rm /eos/project/m/mlplayground/public/DQMIO/nanodqmio_from_das/*.root\n",
    "# ! ls -alhtr /eos/project/m/mlplayground/public/DQMIO/nanodqmio_from_das/\n",
    "\n",
    "# ! rm dasfiles/*.root"
   ]
  },
  {
   "cell_type": "code",
   "execution_count": null,
   "id": "2828eccd",
   "metadata": {},
   "outputs": [],
   "source": []
  }
 ],
 "metadata": {
  "kernelspec": {
   "display_name": "Python 3",
   "language": "python",
   "name": "python3"
  },
  "language_info": {
   "codemirror_mode": {
    "name": "ipython",
    "version": 3
   },
   "file_extension": ".py",
   "mimetype": "text/x-python",
   "name": "python",
   "nbconvert_exporter": "python",
   "pygments_lexer": "ipython3",
   "version": "3.9.12"
  }
 },
 "nbformat": 4,
 "nbformat_minor": 5
}
