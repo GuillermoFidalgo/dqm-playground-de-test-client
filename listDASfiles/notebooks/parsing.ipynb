{
 "cells": [
  {
   "cell_type": "markdown",
   "id": "77076341",
   "metadata": {},
   "source": [
    "# This notebook is intended for testing and developmente of the parsing script. Specifically trying out ideas on how to best submit files for processing."
   ]
  },
  {
   "cell_type": "markdown",
   "id": "2b99667f",
   "metadata": {},
   "source": [
    "## Idea 1\n",
    "\n",
    "Computing a `time_delta` and when `td` > 10 seconds wait a few min before continuing"
   ]
  },
  {
   "cell_type": "code",
   "execution_count": 3,
   "id": "9da2926c",
   "metadata": {},
   "outputs": [],
   "source": [
    "import time"
   ]
  },
  {
   "cell_type": "code",
   "execution_count": 7,
   "id": "5e9cdbba",
   "metadata": {},
   "outputs": [
    {
     "name": "stdout",
     "output_type": "stream",
     "text": [
      "2.002 seconds\n"
     ]
    }
   ],
   "source": [
    "start = time.time()\n",
    "time.sleep(2)\n",
    "end = time.time()\n",
    "delta = end-start\n",
    "print(f\"{delta:.3f} seconds\")"
   ]
  },
  {
   "cell_type": "code",
   "execution_count": 8,
   "id": "21b4d239",
   "metadata": {},
   "outputs": [
    {
     "name": "stdout",
     "output_type": "stream",
     "text": [
      "0.000 seconds\n",
      "1.001 seconds\n",
      "2.002 seconds\n",
      "3.003 seconds\n",
      "4.004 seconds\n",
      "5.005 seconds\n",
      "6.006 seconds\n",
      "7.007 seconds\n",
      "8.001 seconds\n",
      "9.009 seconds\n",
      "10.006 seconds\n",
      "Waiting 1 min\n",
      "11.007 seconds\n",
      "Waiting 1 min\n"
     ]
    }
   ],
   "source": [
    "for i in range(12):\n",
    "    start = time.time()\n",
    "    time.sleep(i)\n",
    "    end = time.time()\n",
    "    delta = end-start\n",
    "    print(f\"{delta:.3f} seconds\")\n",
    "    if delta > 10 : \n",
    "        print(\"Waiting 1 min\")"
   ]
  },
  {
   "cell_type": "markdown",
   "id": "0dda76d5",
   "metadata": {},
   "source": [
    "## Idea 2\n",
    "Wait 5 min after every 10 files started parsing."
   ]
  },
  {
   "cell_type": "code",
   "execution_count": null,
   "id": "4b92b1a3",
   "metadata": {},
   "outputs": [],
   "source": []
  }
 ],
 "metadata": {
  "kernelspec": {
   "display_name": "Python 3",
   "language": "python",
   "name": "python3"
  },
  "language_info": {
   "codemirror_mode": {
    "name": "ipython",
    "version": 3
   },
   "file_extension": ".py",
   "mimetype": "text/x-python",
   "name": "python",
   "nbconvert_exporter": "python",
   "pygments_lexer": "ipython3",
   "version": "3.9.12"
  }
 },
 "nbformat": 4,
 "nbformat_minor": 5
}
