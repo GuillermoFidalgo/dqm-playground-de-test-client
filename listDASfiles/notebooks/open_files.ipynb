{
 "cells": [
  {
   "cell_type": "code",
   "execution_count": 3,
   "metadata": {},
   "outputs": [
    {
     "name": "stdout",
     "output_type": "stream",
     "text": [
      "Welcome to JupyROOT 6.28/06\n"
     ]
    }
   ],
   "source": [
    "import numpy as np\n",
    "import matplotlib.pyplot as plt\n",
    "import uproot, hist\n",
    "import pandas as pd\n",
    "import awkward as ak\n",
    "import os,sys,subprocess,glob\n",
    "import mplhep as hep\n",
    "\n",
    "sys.path.append(\"../scripts/\")\n",
    "\n",
    "from DQMIOReader import DQMIOReader "
   ]
  },
  {
   "cell_type": "code",
   "execution_count": 4,
   "metadata": {
    "scrolled": true
   },
   "outputs": [],
   "source": [
    "MLP_EOS_path = \"/eos/project/m/mlplayground/public/DQMIO/nanodqmio_from_das/\"\n",
    "path= \"../testing/downloads/\"\n",
    "ZBfiles=glob.glob(MLP_EOS_path+'*.root')\n",
    "HIfiles = glob.glob(path+'*.root')\n"
   ]
  },
  {
   "cell_type": "code",
   "execution_count": 13,
   "metadata": {},
   "outputs": [
    {
     "data": {
      "text/plain": [
       "'53A8BD7B-8DA0-4113-A262-C33D1C22AF9C.root'"
      ]
     },
     "execution_count": 13,
     "metadata": {},
     "output_type": "execute_result"
    }
   ],
   "source": [
    "ZBfiles[-5].rpartition('_')[-1]"
   ]
  },
  {
   "cell_type": "code",
   "execution_count": null,
   "metadata": {},
   "outputs": [],
   "source": [
    "ZBfiles[-2].rpartition"
   ]
  },
  {
   "cell_type": "code",
   "execution_count": 29,
   "metadata": {
    "scrolled": true
   },
   "outputs": [
    {
     "name": "stdout",
     "output_type": "stream",
     "text": [
      "DQMIOReader.__init__: opening 10 files...\n",
      "all files opened, now making index\n",
      "index made, now making list of monitoring elements\n",
      "DQMIOReader.__init__: opening 10 files...\n",
      "all files opened, now making index\n",
      "index made, now making list of monitoring elements\n"
     ]
    }
   ],
   "source": [
    "HIreader = DQMIOReader(*HIfiles[-10:],sortindex=True)\n",
    "ZBreader = DQMIOReader(*ZBfiles[-10:],sortindex=True)"
   ]
  },
  {
   "cell_type": "code",
   "execution_count": 30,
   "metadata": {},
   "outputs": [
    {
     "name": "stdout",
     "output_type": "stream",
     "text": [
      "4963 1622\n"
     ]
    }
   ],
   "source": [
    "print(len(ZBreader.listMEs()),len(HIreader.listMEs())\n",
    "     )"
   ]
  },
  {
   "cell_type": "code",
   "execution_count": 31,
   "metadata": {},
   "outputs": [],
   "source": [
    "sharedMEs=list(set(ZBreader.listMEs()) & set(HIreader.listMEs())) #intersection of the MEs in both dataset types"
   ]
  },
  {
   "cell_type": "code",
   "execution_count": 32,
   "metadata": {},
   "outputs": [
    {
     "data": {
      "text/plain": [
       "1491"
      ]
     },
     "execution_count": 32,
     "metadata": {},
     "output_type": "execute_result"
    }
   ],
   "source": [
    "len(sharedMEs)"
   ]
  },
  {
   "cell_type": "code",
   "execution_count": 33,
   "metadata": {},
   "outputs": [
    {
     "data": {
      "text/plain": [
       "['PixelPhase1/Tracks/PXBarrel/charge_PXLayer_1',\n",
       " 'PixelPhase1/Tracks/charge_PXBarrel',\n",
       " 'PixelPhase1/Tracks/PXForward/charge_PXDisk_+2',\n",
       " 'PixelPhase1/Tracks/PXBarrel/charge_PXLayer_2',\n",
       " 'PixelPhase1/Tracks/PXForward/charge_PXDisk_-2',\n",
       " 'PixelPhase1/Tracks/PXBarrel/charge_PXLayer_4',\n",
       " 'PixelPhase1/Tracks/PXBarrel/charge_PXLayer_3',\n",
       " 'PixelPhase1/Tracks/PXForward/charge_PXDisk_+3',\n",
       " 'PixelPhase1/Tracks/PXForward/charge_PXDisk_-1',\n",
       " 'PixelPhase1/Tracks/charge_PXForward',\n",
       " 'PixelPhase1/Tracks/PXForward/charge_PXDisk_-3',\n",
       " 'PixelPhase1/Tracks/PXForward/charge_PXDisk_+1']"
      ]
     },
     "execution_count": 33,
     "metadata": {},
     "output_type": "execute_result"
    }
   ],
   "source": [
    "[i for i in sharedMEs if 'charge' in i.lower()]"
   ]
  },
  {
   "cell_type": "code",
   "execution_count": 34,
   "metadata": {
    "scrolled": true
   },
   "outputs": [
    {
     "data": {
      "text/plain": [
       "['PixelPhase1/Tracks/charge_PXBarrel',\n",
       " 'PixelPhase1/Tracks/charge_PXForward',\n",
       " 'PixelPhase1/Tracks/PXBarrel/charge_PXLayer_1',\n",
       " 'PixelPhase1/Tracks/PXBarrel/charge_PXLayer_2',\n",
       " 'PixelPhase1/Tracks/PXBarrel/charge_PXLayer_3',\n",
       " 'PixelPhase1/Tracks/PXBarrel/charge_PXLayer_4',\n",
       " 'PixelPhase1/Tracks/PXForward/charge_PXDisk_+1',\n",
       " 'PixelPhase1/Tracks/PXForward/charge_PXDisk_+2',\n",
       " 'PixelPhase1/Tracks/PXForward/charge_PXDisk_+3',\n",
       " 'PixelPhase1/Tracks/PXForward/charge_PXDisk_-1',\n",
       " 'PixelPhase1/Tracks/PXForward/charge_PXDisk_-2',\n",
       " 'PixelPhase1/Tracks/PXForward/charge_PXDisk_-3']"
      ]
     },
     "execution_count": 34,
     "metadata": {},
     "output_type": "execute_result"
    }
   ],
   "source": [
    "[i for i in ZBreader.listMEs() if 'charge' in i.lower()]"
   ]
  },
  {
   "cell_type": "code",
   "execution_count": 35,
   "metadata": {
    "scrolled": true
   },
   "outputs": [
    {
     "data": {
      "text/plain": [
       "['PixelPhase1/Tracks/charge_PXBarrel',\n",
       " 'PixelPhase1/Tracks/charge_PXForward',\n",
       " 'PixelPhase1/Tracks/PXBarrel/charge_PXLayer_1',\n",
       " 'PixelPhase1/Tracks/PXBarrel/charge_PXLayer_2',\n",
       " 'PixelPhase1/Tracks/PXBarrel/charge_PXLayer_3',\n",
       " 'PixelPhase1/Tracks/PXBarrel/charge_PXLayer_4',\n",
       " 'PixelPhase1/Tracks/PXForward/charge_PXDisk_+1',\n",
       " 'PixelPhase1/Tracks/PXForward/charge_PXDisk_+2',\n",
       " 'PixelPhase1/Tracks/PXForward/charge_PXDisk_+3',\n",
       " 'PixelPhase1/Tracks/PXForward/charge_PXDisk_-1',\n",
       " 'PixelPhase1/Tracks/PXForward/charge_PXDisk_-2',\n",
       " 'PixelPhase1/Tracks/PXForward/charge_PXDisk_-3']"
      ]
     },
     "execution_count": 35,
     "metadata": {},
     "output_type": "execute_result"
    }
   ],
   "source": [
    "[i for i in HIreader.listMEs() if 'charge' in i]"
   ]
  },
  {
   "cell_type": "code",
   "execution_count": 17,
   "metadata": {},
   "outputs": [
    {
     "data": {
      "text/plain": [
       "[MonitorElement(run=374925, lumi=1, name='PixelPhase1/Tracks/PXBarrel/charge_PXLayer_1', type=3, data=<cppyy.gbl.TH1F object at 0x113a6930>),\n",
       " MonitorElement(run=374925, lumi=2, name='PixelPhase1/Tracks/PXBarrel/charge_PXLayer_1', type=3, data=<cppyy.gbl.TH1F object at 0x113a0aa0>),\n",
       " MonitorElement(run=374925, lumi=3, name='PixelPhase1/Tracks/PXBarrel/charge_PXLayer_1', type=3, data=<cppyy.gbl.TH1F object at 0x11595f10>),\n",
       " MonitorElement(run=374925, lumi=4, name='PixelPhase1/Tracks/PXBarrel/charge_PXLayer_1', type=3, data=<cppyy.gbl.TH1F object at 0x115efb60>),\n",
       " MonitorElement(run=374925, lumi=5, name='PixelPhase1/Tracks/PXBarrel/charge_PXLayer_1', type=3, data=<cppyy.gbl.TH1F object at 0x115f01a0>),\n",
       " MonitorElement(run=374925, lumi=6, name='PixelPhase1/Tracks/PXBarrel/charge_PXLayer_1', type=3, data=<cppyy.gbl.TH1F object at 0x115f0810>),\n",
       " MonitorElement(run=374925, lumi=7, name='PixelPhase1/Tracks/PXBarrel/charge_PXLayer_1', type=3, data=<cppyy.gbl.TH1F object at 0x115f0eb0>),\n",
       " MonitorElement(run=374925, lumi=8, name='PixelPhase1/Tracks/PXBarrel/charge_PXLayer_1', type=3, data=<cppyy.gbl.TH1F object at 0x115f1510>),\n",
       " MonitorElement(run=374925, lumi=9, name='PixelPhase1/Tracks/PXBarrel/charge_PXLayer_1', type=3, data=<cppyy.gbl.TH1F object at 0x115d0560>),\n",
       " MonitorElement(run=374925, lumi=10, name='PixelPhase1/Tracks/PXBarrel/charge_PXLayer_1', type=3, data=<cppyy.gbl.TH1F object at 0x115e1140>),\n",
       " MonitorElement(run=374925, lumi=11, name='PixelPhase1/Tracks/PXBarrel/charge_PXLayer_1', type=3, data=<cppyy.gbl.TH1F object at 0x115ef560>),\n",
       " MonitorElement(run=374925, lumi=12, name='PixelPhase1/Tracks/PXBarrel/charge_PXLayer_1', type=3, data=<cppyy.gbl.TH1F object at 0x115e1d40>),\n",
       " MonitorElement(run=374925, lumi=13, name='PixelPhase1/Tracks/PXBarrel/charge_PXLayer_1', type=3, data=<cppyy.gbl.TH1F object at 0x115f5e80>),\n",
       " MonitorElement(run=374925, lumi=14, name='PixelPhase1/Tracks/PXBarrel/charge_PXLayer_1', type=3, data=<cppyy.gbl.TH1F object at 0x1138ed00>),\n",
       " MonitorElement(run=374925, lumi=15, name='PixelPhase1/Tracks/PXBarrel/charge_PXLayer_1', type=3, data=<cppyy.gbl.TH1F object at 0x115e17e0>),\n",
       " MonitorElement(run=374925, lumi=238, name='PixelPhase1/Tracks/PXBarrel/charge_PXLayer_1', type=3, data=<cppyy.gbl.TH1F object at 0x113b5880>),\n",
       " MonitorElement(run=374925, lumi=239, name='PixelPhase1/Tracks/PXBarrel/charge_PXLayer_1', type=3, data=<cppyy.gbl.TH1F object at 0x115f7530>),\n",
       " MonitorElement(run=374925, lumi=240, name='PixelPhase1/Tracks/PXBarrel/charge_PXLayer_1', type=3, data=<cppyy.gbl.TH1F object at 0x115f6a40>),\n",
       " MonitorElement(run=374925, lumi=265, name='PixelPhase1/Tracks/PXBarrel/charge_PXLayer_1', type=3, data=<cppyy.gbl.TH1F object at 0x11405d60>),\n",
       " MonitorElement(run=374925, lumi=266, name='PixelPhase1/Tracks/PXBarrel/charge_PXLayer_1', type=3, data=<cppyy.gbl.TH1F object at 0x115f21e0>),\n",
       " MonitorElement(run=374925, lumi=267, name='PixelPhase1/Tracks/PXBarrel/charge_PXLayer_1', type=3, data=<cppyy.gbl.TH1F object at 0x115f8330>),\n",
       " MonitorElement(run=374925, lumi=268, name='PixelPhase1/Tracks/PXBarrel/charge_PXLayer_1', type=3, data=<cppyy.gbl.TH1F object at 0x115f3680>),\n",
       " MonitorElement(run=374925, lumi=269, name='PixelPhase1/Tracks/PXBarrel/charge_PXLayer_1', type=3, data=<cppyy.gbl.TH1F object at 0x115b0a40>),\n",
       " MonitorElement(run=374925, lumi=270, name='PixelPhase1/Tracks/PXBarrel/charge_PXLayer_1', type=3, data=<cppyy.gbl.TH1F object at 0x115b1070>),\n",
       " MonitorElement(run=374925, lumi=271, name='PixelPhase1/Tracks/PXBarrel/charge_PXLayer_1', type=3, data=<cppyy.gbl.TH1F object at 0x115b16c0>),\n",
       " MonitorElement(run=374925, lumi=272, name='PixelPhase1/Tracks/PXBarrel/charge_PXLayer_1', type=3, data=<cppyy.gbl.TH1F object at 0x115b1cf0>),\n",
       " MonitorElement(run=374925, lumi=273, name='PixelPhase1/Tracks/PXBarrel/charge_PXLayer_1', type=3, data=<cppyy.gbl.TH1F object at 0x115b2360>),\n",
       " MonitorElement(run=374925, lumi=274, name='PixelPhase1/Tracks/PXBarrel/charge_PXLayer_1', type=3, data=<cppyy.gbl.TH1F object at 0x115b2a00>),\n",
       " MonitorElement(run=374925, lumi=275, name='PixelPhase1/Tracks/PXBarrel/charge_PXLayer_1', type=3, data=<cppyy.gbl.TH1F object at 0x115f3080>),\n",
       " MonitorElement(run=374925, lumi=276, name='PixelPhase1/Tracks/PXBarrel/charge_PXLayer_1', type=3, data=<cppyy.gbl.TH1F object at 0x115b3620>),\n",
       " MonitorElement(run=374925, lumi=277, name='PixelPhase1/Tracks/PXBarrel/charge_PXLayer_1', type=3, data=<cppyy.gbl.TH1F object at 0x115b3cc0>),\n",
       " MonitorElement(run=374925, lumi=278, name='PixelPhase1/Tracks/PXBarrel/charge_PXLayer_1', type=3, data=<cppyy.gbl.TH1F object at 0x113ff3c0>),\n",
       " MonitorElement(run=374925, lumi=279, name='PixelPhase1/Tracks/PXBarrel/charge_PXLayer_1', type=3, data=<cppyy.gbl.TH1F object at 0x115d0b90>),\n",
       " MonitorElement(run=374925, lumi=374, name='PixelPhase1/Tracks/PXBarrel/charge_PXLayer_1', type=3, data=<cppyy.gbl.TH1F object at 0x1145b3f0>),\n",
       " MonitorElement(run=374925, lumi=375, name='PixelPhase1/Tracks/PXBarrel/charge_PXLayer_1', type=3, data=<cppyy.gbl.TH1F object at 0x115d1ef0>),\n",
       " MonitorElement(run=374925, lumi=376, name='PixelPhase1/Tracks/PXBarrel/charge_PXLayer_1', type=3, data=<cppyy.gbl.TH1F object at 0x115d1780>),\n",
       " MonitorElement(run=374925, lumi=377, name='PixelPhase1/Tracks/PXBarrel/charge_PXLayer_1', type=3, data=<cppyy.gbl.TH1F object at 0x1159de40>),\n",
       " MonitorElement(run=374925, lumi=378, name='PixelPhase1/Tracks/PXBarrel/charge_PXLayer_1', type=3, data=<cppyy.gbl.TH1F object at 0x1159e4e0>),\n",
       " MonitorElement(run=374925, lumi=379, name='PixelPhase1/Tracks/PXBarrel/charge_PXLayer_1', type=3, data=<cppyy.gbl.TH1F object at 0x115f3d60>),\n",
       " MonitorElement(run=374925, lumi=380, name='PixelPhase1/Tracks/PXBarrel/charge_PXLayer_1', type=3, data=<cppyy.gbl.TH1F object at 0x1159eb50>),\n",
       " MonitorElement(run=374925, lumi=381, name='PixelPhase1/Tracks/PXBarrel/charge_PXLayer_1', type=3, data=<cppyy.gbl.TH1F object at 0x115f49d0>),\n",
       " MonitorElement(run=374925, lumi=382, name='PixelPhase1/Tracks/PXBarrel/charge_PXLayer_1', type=3, data=<cppyy.gbl.TH1F object at 0x1159d840>),\n",
       " MonitorElement(run=374925, lumi=383, name='PixelPhase1/Tracks/PXBarrel/charge_PXLayer_1', type=3, data=<cppyy.gbl.TH1F object at 0x115f5510>),\n",
       " MonitorElement(run=374925, lumi=384, name='PixelPhase1/Tracks/PXBarrel/charge_PXLayer_1', type=3, data=<cppyy.gbl.TH1F object at 0x115f4400>),\n",
       " MonitorElement(run=374925, lumi=385, name='PixelPhase1/Tracks/PXBarrel/charge_PXLayer_1', type=3, data=<cppyy.gbl.TH1F object at 0x115990b0>),\n",
       " MonitorElement(run=374925, lumi=386, name='PixelPhase1/Tracks/PXBarrel/charge_PXLayer_1', type=3, data=<cppyy.gbl.TH1F object at 0x11598b50>),\n",
       " MonitorElement(run=374925, lumi=387, name='PixelPhase1/Tracks/PXBarrel/charge_PXLayer_1', type=3, data=<cppyy.gbl.TH1F object at 0x1159a540>),\n",
       " MonitorElement(run=374925, lumi=388, name='PixelPhase1/Tracks/PXBarrel/charge_PXLayer_1', type=3, data=<cppyy.gbl.TH1F object at 0x11454a60>),\n",
       " MonitorElement(run=374925, lumi=389, name='PixelPhase1/Tracks/PXBarrel/charge_PXLayer_1', type=3, data=<cppyy.gbl.TH1F object at 0x114b81a0>),\n",
       " MonitorElement(run=374925, lumi=390, name='PixelPhase1/Tracks/PXBarrel/charge_PXLayer_1', type=3, data=<cppyy.gbl.TH1F object at 0x1161bff0>),\n",
       " MonitorElement(run=374925, lumi=391, name='PixelPhase1/Tracks/PXBarrel/charge_PXLayer_1', type=3, data=<cppyy.gbl.TH1F object at 0x115d2380>),\n",
       " MonitorElement(run=374925, lumi=392, name='PixelPhase1/Tracks/PXBarrel/charge_PXLayer_1', type=3, data=<cppyy.gbl.TH1F object at 0x115d2fe0>),\n",
       " MonitorElement(run=374925, lumi=393, name='PixelPhase1/Tracks/PXBarrel/charge_PXLayer_1', type=3, data=<cppyy.gbl.TH1F object at 0x115d36a0>),\n",
       " MonitorElement(run=374925, lumi=394, name='PixelPhase1/Tracks/PXBarrel/charge_PXLayer_1', type=3, data=<cppyy.gbl.TH1F object at 0x115d3d40>),\n",
       " MonitorElement(run=374925, lumi=395, name='PixelPhase1/Tracks/PXBarrel/charge_PXLayer_1', type=3, data=<cppyy.gbl.TH1F object at 0x115d43e0>),\n",
       " MonitorElement(run=374925, lumi=396, name='PixelPhase1/Tracks/PXBarrel/charge_PXLayer_1', type=3, data=<cppyy.gbl.TH1F object at 0x115d4a80>),\n",
       " MonitorElement(run=374925, lumi=397, name='PixelPhase1/Tracks/PXBarrel/charge_PXLayer_1', type=3, data=<cppyy.gbl.TH1F object at 0x115d50f0>),\n",
       " MonitorElement(run=374925, lumi=398, name='PixelPhase1/Tracks/PXBarrel/charge_PXLayer_1', type=3, data=<cppyy.gbl.TH1F object at 0x115d5790>),\n",
       " MonitorElement(run=374925, lumi=399, name='PixelPhase1/Tracks/PXBarrel/charge_PXLayer_1', type=3, data=<cppyy.gbl.TH1F object at 0x115d29e0>),\n",
       " MonitorElement(run=374925, lumi=400, name='PixelPhase1/Tracks/PXBarrel/charge_PXLayer_1', type=3, data=<cppyy.gbl.TH1F object at 0x115d6390>),\n",
       " MonitorElement(run=374925, lumi=401, name='PixelPhase1/Tracks/PXBarrel/charge_PXLayer_1', type=3, data=<cppyy.gbl.TH1F object at 0x1161b630>),\n",
       " MonitorElement(run=374925, lumi=402, name='PixelPhase1/Tracks/PXBarrel/charge_PXLayer_1', type=3, data=<cppyy.gbl.TH1F object at 0x114a3a90>),\n",
       " MonitorElement(run=374925, lumi=403, name='PixelPhase1/Tracks/PXBarrel/charge_PXLayer_1', type=3, data=<cppyy.gbl.TH1F object at 0x1162ff50>),\n",
       " MonitorElement(run=374925, lumi=404, name='PixelPhase1/Tracks/PXBarrel/charge_PXLayer_1', type=3, data=<cppyy.gbl.TH1F object at 0x11507c50>),\n",
       " MonitorElement(run=374925, lumi=405, name='PixelPhase1/Tracks/PXBarrel/charge_PXLayer_1', type=3, data=<cppyy.gbl.TH1F object at 0x1159b3e0>),\n",
       " MonitorElement(run=374925, lumi=406, name='PixelPhase1/Tracks/PXBarrel/charge_PXLayer_1', type=3, data=<cppyy.gbl.TH1F object at 0x1159bac0>),\n",
       " MonitorElement(run=374925, lumi=407, name='PixelPhase1/Tracks/PXBarrel/charge_PXLayer_1', type=3, data=<cppyy.gbl.TH1F object at 0x1159c720>),\n",
       " MonitorElement(run=374925, lumi=408, name='PixelPhase1/Tracks/PXBarrel/charge_PXLayer_1', type=3, data=<cppyy.gbl.TH1F object at 0x1159cde0>),\n",
       " MonitorElement(run=374925, lumi=409, name='PixelPhase1/Tracks/PXBarrel/charge_PXLayer_1', type=3, data=<cppyy.gbl.TH1F object at 0x1159c330>),\n",
       " MonitorElement(run=374925, lumi=410, name='PixelPhase1/Tracks/PXBarrel/charge_PXLayer_1', type=3, data=<cppyy.gbl.TH1F object at 0x11631b20>),\n",
       " MonitorElement(run=374925, lumi=411, name='PixelPhase1/Tracks/PXBarrel/charge_PXLayer_1', type=3, data=<cppyy.gbl.TH1F object at 0x11632250>),\n",
       " MonitorElement(run=374925, lumi=412, name='PixelPhase1/Tracks/PXBarrel/charge_PXLayer_1', type=3, data=<cppyy.gbl.TH1F object at 0x11630380>),\n",
       " MonitorElement(run=374925, lumi=413, name='PixelPhase1/Tracks/PXBarrel/charge_PXLayer_1', type=3, data=<cppyy.gbl.TH1F object at 0x11632f40>),\n",
       " MonitorElement(run=374925, lumi=414, name='PixelPhase1/Tracks/PXBarrel/charge_PXLayer_1', type=3, data=<cppyy.gbl.TH1F object at 0x11632980>),\n",
       " MonitorElement(run=374925, lumi=415, name='PixelPhase1/Tracks/PXBarrel/charge_PXLayer_1', type=3, data=<cppyy.gbl.TH1F object at 0x116294e0>),\n",
       " MonitorElement(run=374925, lumi=416, name='PixelPhase1/Tracks/PXBarrel/charge_PXLayer_1', type=3, data=<cppyy.gbl.TH1F object at 0x11629dc0>),\n",
       " MonitorElement(run=374925, lumi=417, name='PixelPhase1/Tracks/PXBarrel/charge_PXLayer_1', type=3, data=<cppyy.gbl.TH1F object at 0x114f0d40>),\n",
       " MonitorElement(run=374925, lumi=418, name='PixelPhase1/Tracks/PXBarrel/charge_PXLayer_1', type=3, data=<cppyy.gbl.TH1F object at 0x1162ae10>),\n",
       " MonitorElement(run=374925, lumi=537, name='PixelPhase1/Tracks/PXBarrel/charge_PXLayer_1', type=3, data=<cppyy.gbl.TH1F object at 0x1152a2c0>),\n",
       " MonitorElement(run=374925, lumi=538, name='PixelPhase1/Tracks/PXBarrel/charge_PXLayer_1', type=3, data=<cppyy.gbl.TH1F object at 0x1162bc00>),\n",
       " MonitorElement(run=374925, lumi=539, name='PixelPhase1/Tracks/PXBarrel/charge_PXLayer_1', type=3, data=<cppyy.gbl.TH1F object at 0x1162b410>),\n",
       " MonitorElement(run=374925, lumi=572, name='PixelPhase1/Tracks/PXBarrel/charge_PXLayer_1', type=3, data=<cppyy.gbl.TH1F object at 0x11559400>),\n",
       " MonitorElement(run=374925, lumi=573, name='PixelPhase1/Tracks/PXBarrel/charge_PXLayer_1', type=3, data=<cppyy.gbl.TH1F object at 0x1162d1c0>),\n",
       " MonitorElement(run=374925, lumi=574, name='PixelPhase1/Tracks/PXBarrel/charge_PXLayer_1', type=3, data=<cppyy.gbl.TH1F object at 0x1162dc70>),\n",
       " MonitorElement(run=374925, lumi=575, name='PixelPhase1/Tracks/PXBarrel/charge_PXLayer_1', type=3, data=<cppyy.gbl.TH1F object at 0x1162d6c0>),\n",
       " MonitorElement(run=374925, lumi=576, name='PixelPhase1/Tracks/PXBarrel/charge_PXLayer_1', type=3, data=<cppyy.gbl.TH1F object at 0x1162e860>),\n",
       " MonitorElement(run=374925, lumi=577, name='PixelPhase1/Tracks/PXBarrel/charge_PXLayer_1', type=3, data=<cppyy.gbl.TH1F object at 0x1162e310>),\n",
       " MonitorElement(run=374925, lumi=578, name='PixelPhase1/Tracks/PXBarrel/charge_PXLayer_1', type=3, data=<cppyy.gbl.TH1F object at 0x115e4c70>),\n",
       " MonitorElement(run=374925, lumi=579, name='PixelPhase1/Tracks/PXBarrel/charge_PXLayer_1', type=3, data=<cppyy.gbl.TH1F object at 0x115e5240>),\n",
       " MonitorElement(run=374925, lumi=580, name='PixelPhase1/Tracks/PXBarrel/charge_PXLayer_1', type=3, data=<cppyy.gbl.TH1F object at 0x115e4690>),\n",
       " MonitorElement(run=374925, lumi=581, name='PixelPhase1/Tracks/PXBarrel/charge_PXLayer_1', type=3, data=<cppyy.gbl.TH1F object at 0x115e5e40>),\n",
       " MonitorElement(run=374925, lumi=582, name='PixelPhase1/Tracks/PXBarrel/charge_PXLayer_1', type=3, data=<cppyy.gbl.TH1F object at 0x1162ef00>),\n",
       " MonitorElement(run=374925, lumi=583, name='PixelPhase1/Tracks/PXBarrel/charge_PXLayer_1', type=3, data=<cppyy.gbl.TH1F object at 0x115e6cf0>),\n",
       " MonitorElement(run=374925, lumi=584, name='PixelPhase1/Tracks/PXBarrel/charge_PXLayer_1', type=3, data=<cppyy.gbl.TH1F object at 0x115e6790>),\n",
       " MonitorElement(run=374925, lumi=585, name='PixelPhase1/Tracks/PXBarrel/charge_PXLayer_1', type=3, data=<cppyy.gbl.TH1F object at 0x11575f80>),\n",
       " MonitorElement(run=374925, lumi=586, name='PixelPhase1/Tracks/PXBarrel/charge_PXLayer_1', type=3, data=<cppyy.gbl.TH1F object at 0x11633eb0>),\n",
       " MonitorElement(run=374925, lumi=654, name='PixelPhase1/Tracks/PXBarrel/charge_PXLayer_1', type=3, data=<cppyy.gbl.TH1F object at 0x1151b670>),\n",
       " MonitorElement(run=374925, lumi=655, name='PixelPhase1/Tracks/PXBarrel/charge_PXLayer_1', type=3, data=<cppyy.gbl.TH1F object at 0x11635a60>),\n",
       " MonitorElement(run=374925, lumi=821, name='PixelPhase1/Tracks/PXBarrel/charge_PXLayer_1', type=3, data=<cppyy.gbl.TH1F object at 0x115c8d60>),\n",
       " MonitorElement(run=374925, lumi=822, name='PixelPhase1/Tracks/PXBarrel/charge_PXLayer_1', type=3, data=<cppyy.gbl.TH1F object at 0x11582320>),\n",
       " MonitorElement(run=374925, lumi=823, name='PixelPhase1/Tracks/PXBarrel/charge_PXLayer_1', type=3, data=<cppyy.gbl.TH1F object at 0x1162f480>),\n",
       " MonitorElement(run=374925, lumi=824, name='PixelPhase1/Tracks/PXBarrel/charge_PXLayer_1', type=3, data=<cppyy.gbl.TH1F object at 0x115e71c0>),\n",
       " MonitorElement(run=374925, lumi=825, name='PixelPhase1/Tracks/PXBarrel/charge_PXLayer_1', type=3, data=<cppyy.gbl.TH1F object at 0x1162fab0>),\n",
       " MonitorElement(run=374925, lumi=826, name='PixelPhase1/Tracks/PXBarrel/charge_PXLayer_1', type=3, data=<cppyy.gbl.TH1F object at 0x115b0470>),\n",
       " MonitorElement(run=374925, lumi=827, name='PixelPhase1/Tracks/PXBarrel/charge_PXLayer_1', type=3, data=<cppyy.gbl.TH1F object at 0x1161db80>),\n",
       " MonitorElement(run=374925, lumi=828, name='PixelPhase1/Tracks/PXBarrel/charge_PXLayer_1', type=3, data=<cppyy.gbl.TH1F object at 0x1161cdc0>),\n",
       " MonitorElement(run=374925, lumi=829, name='PixelPhase1/Tracks/PXBarrel/charge_PXLayer_1', type=3, data=<cppyy.gbl.TH1F object at 0x1161e860>),\n",
       " MonitorElement(run=374925, lumi=830, name='PixelPhase1/Tracks/PXBarrel/charge_PXLayer_1', type=3, data=<cppyy.gbl.TH1F object at 0x1161e1b0>),\n",
       " MonitorElement(run=374925, lumi=831, name='PixelPhase1/Tracks/PXBarrel/charge_PXLayer_1', type=3, data=<cppyy.gbl.TH1F object at 0x1161f500>),\n",
       " MonitorElement(run=374925, lumi=832, name='PixelPhase1/Tracks/PXBarrel/charge_PXLayer_1', type=3, data=<cppyy.gbl.TH1F object at 0x1161d5a0>),\n",
       " MonitorElement(run=374925, lumi=833, name='PixelPhase1/Tracks/PXBarrel/charge_PXLayer_1', type=3, data=<cppyy.gbl.TH1F object at 0x116204d0>),\n",
       " MonitorElement(run=374925, lumi=834, name='PixelPhase1/Tracks/PXBarrel/charge_PXLayer_1', type=3, data=<cppyy.gbl.TH1F object at 0x11621290>),\n",
       " MonitorElement(run=374925, lumi=835, name='PixelPhase1/Tracks/PXBarrel/charge_PXLayer_1', type=3, data=<cppyy.gbl.TH1F object at 0x115df990>)]"
      ]
     },
     "execution_count": 17,
     "metadata": {},
     "output_type": "execute_result"
    }
   ],
   "source": [
    "HIreader.getMEs('*charge_PXLayer_1*')"
   ]
  },
  {
   "cell_type": "code",
   "execution_count": 40,
   "metadata": {
    "scrolled": false
   },
   "outputs": [],
   "source": [
    "### convert to dataframe\n",
    "hname =  'PixelPhase1/Tracks/PXBarrel/charge_PXLayer_1' \n",
    "# hname = 'PixelPhase1/Tracks/PXForward/charge_PXDisk_+1'\n",
    "# hname= 'PixelPhase1/Tracks/PXForward/charge_PXDisk_-2'\n",
    "HIdf = HIreader.getSingleMEsToDataFrame(hname)\n",
    "ZBdf = ZBreader.getSingleMEsToDataFrame(hname)\n",
    "\n"
   ]
  },
  {
   "cell_type": "code",
   "execution_count": 60,
   "metadata": {
    "scrolled": true
   },
   "outputs": [
    {
     "data": {
      "text/html": [
       "<div>\n",
       "<style scoped>\n",
       "    .dataframe tbody tr th:only-of-type {\n",
       "        vertical-align: middle;\n",
       "    }\n",
       "\n",
       "    .dataframe tbody tr th {\n",
       "        vertical-align: top;\n",
       "    }\n",
       "\n",
       "    .dataframe thead th {\n",
       "        text-align: right;\n",
       "    }\n",
       "</style>\n",
       "<table border=\"1\" class=\"dataframe\">\n",
       "  <thead>\n",
       "    <tr style=\"text-align: right;\">\n",
       "      <th></th>\n",
       "      <th>fromrun</th>\n",
       "      <th>fromlumi</th>\n",
       "      <th>hname</th>\n",
       "      <th>metype</th>\n",
       "      <th>histo</th>\n",
       "      <th>entries</th>\n",
       "      <th>Xmax</th>\n",
       "      <th>Xmin</th>\n",
       "      <th>Xbins</th>\n",
       "      <th>Ymax</th>\n",
       "      <th>Ymin</th>\n",
       "      <th>Ybins</th>\n",
       "    </tr>\n",
       "  </thead>\n",
       "  <tbody>\n",
       "    <tr>\n",
       "      <th>1461</th>\n",
       "      <td>373784</td>\n",
       "      <td>1</td>\n",
       "      <td>PixelPhase1/Tracks/PXBarrel/charge_PXLayer_1</td>\n",
       "      <td>3</td>\n",
       "      <td>[0, 0, 0, 0, 0, 0, 0, 0, 0, 0, 0, 0, 0, 0, 0, ...</td>\n",
       "      <td>0</td>\n",
       "      <td>80000.0</td>\n",
       "      <td>0.0</td>\n",
       "      <td>100</td>\n",
       "      <td>1.0</td>\n",
       "      <td>0.0</td>\n",
       "      <td>1</td>\n",
       "    </tr>\n",
       "    <tr>\n",
       "      <th>1462</th>\n",
       "      <td>373784</td>\n",
       "      <td>2</td>\n",
       "      <td>PixelPhase1/Tracks/PXBarrel/charge_PXLayer_1</td>\n",
       "      <td>3</td>\n",
       "      <td>[0, 0, 0, 0, 0, 0, 0, 0, 0, 0, 0, 0, 0, 0, 0, ...</td>\n",
       "      <td>0</td>\n",
       "      <td>80000.0</td>\n",
       "      <td>0.0</td>\n",
       "      <td>100</td>\n",
       "      <td>1.0</td>\n",
       "      <td>0.0</td>\n",
       "      <td>1</td>\n",
       "    </tr>\n",
       "    <tr>\n",
       "      <th>1463</th>\n",
       "      <td>373784</td>\n",
       "      <td>3</td>\n",
       "      <td>PixelPhase1/Tracks/PXBarrel/charge_PXLayer_1</td>\n",
       "      <td>3</td>\n",
       "      <td>[0, 0, 0, 0, 0, 0, 0, 0, 0, 0, 0, 0, 0, 0, 0, ...</td>\n",
       "      <td>0</td>\n",
       "      <td>80000.0</td>\n",
       "      <td>0.0</td>\n",
       "      <td>100</td>\n",
       "      <td>1.0</td>\n",
       "      <td>0.0</td>\n",
       "      <td>1</td>\n",
       "    </tr>\n",
       "    <tr>\n",
       "      <th>1464</th>\n",
       "      <td>373784</td>\n",
       "      <td>4</td>\n",
       "      <td>PixelPhase1/Tracks/PXBarrel/charge_PXLayer_1</td>\n",
       "      <td>3</td>\n",
       "      <td>[0, 0, 0, 0, 0, 0, 0, 0, 0, 0, 0, 0, 0, 0, 0, ...</td>\n",
       "      <td>0</td>\n",
       "      <td>80000.0</td>\n",
       "      <td>0.0</td>\n",
       "      <td>100</td>\n",
       "      <td>1.0</td>\n",
       "      <td>0.0</td>\n",
       "      <td>1</td>\n",
       "    </tr>\n",
       "    <tr>\n",
       "      <th>1465</th>\n",
       "      <td>373784</td>\n",
       "      <td>5</td>\n",
       "      <td>PixelPhase1/Tracks/PXBarrel/charge_PXLayer_1</td>\n",
       "      <td>3</td>\n",
       "      <td>[0, 0, 0, 0, 0, 0, 0, 0, 0, 0, 0, 0, 0, 0, 0, ...</td>\n",
       "      <td>0</td>\n",
       "      <td>80000.0</td>\n",
       "      <td>0.0</td>\n",
       "      <td>100</td>\n",
       "      <td>1.0</td>\n",
       "      <td>0.0</td>\n",
       "      <td>1</td>\n",
       "    </tr>\n",
       "    <tr>\n",
       "      <th>...</th>\n",
       "      <td>...</td>\n",
       "      <td>...</td>\n",
       "      <td>...</td>\n",
       "      <td>...</td>\n",
       "      <td>...</td>\n",
       "      <td>...</td>\n",
       "      <td>...</td>\n",
       "      <td>...</td>\n",
       "      <td>...</td>\n",
       "      <td>...</td>\n",
       "      <td>...</td>\n",
       "      <td>...</td>\n",
       "    </tr>\n",
       "    <tr>\n",
       "      <th>1537</th>\n",
       "      <td>373784</td>\n",
       "      <td>77</td>\n",
       "      <td>PixelPhase1/Tracks/PXBarrel/charge_PXLayer_1</td>\n",
       "      <td>3</td>\n",
       "      <td>[0, 0, 0, 0, 0, 0, 0, 0, 0, 0, 0, 0, 0, 0, 0, ...</td>\n",
       "      <td>0</td>\n",
       "      <td>80000.0</td>\n",
       "      <td>0.0</td>\n",
       "      <td>100</td>\n",
       "      <td>1.0</td>\n",
       "      <td>0.0</td>\n",
       "      <td>1</td>\n",
       "    </tr>\n",
       "    <tr>\n",
       "      <th>1538</th>\n",
       "      <td>373784</td>\n",
       "      <td>78</td>\n",
       "      <td>PixelPhase1/Tracks/PXBarrel/charge_PXLayer_1</td>\n",
       "      <td>3</td>\n",
       "      <td>[0, 0, 0, 0, 0, 0, 0, 0, 0, 0, 0, 0, 0, 0, 0, ...</td>\n",
       "      <td>0</td>\n",
       "      <td>80000.0</td>\n",
       "      <td>0.0</td>\n",
       "      <td>100</td>\n",
       "      <td>1.0</td>\n",
       "      <td>0.0</td>\n",
       "      <td>1</td>\n",
       "    </tr>\n",
       "    <tr>\n",
       "      <th>1539</th>\n",
       "      <td>373784</td>\n",
       "      <td>79</td>\n",
       "      <td>PixelPhase1/Tracks/PXBarrel/charge_PXLayer_1</td>\n",
       "      <td>3</td>\n",
       "      <td>[0, 0, 0, 0, 0, 0, 0, 0, 0, 0, 0, 0, 0, 0, 0, ...</td>\n",
       "      <td>0</td>\n",
       "      <td>80000.0</td>\n",
       "      <td>0.0</td>\n",
       "      <td>100</td>\n",
       "      <td>1.0</td>\n",
       "      <td>0.0</td>\n",
       "      <td>1</td>\n",
       "    </tr>\n",
       "    <tr>\n",
       "      <th>1540</th>\n",
       "      <td>373784</td>\n",
       "      <td>80</td>\n",
       "      <td>PixelPhase1/Tracks/PXBarrel/charge_PXLayer_1</td>\n",
       "      <td>3</td>\n",
       "      <td>[0, 0, 0, 0, 0, 0, 0, 0, 0, 0, 0, 0, 0, 0, 0, ...</td>\n",
       "      <td>0</td>\n",
       "      <td>80000.0</td>\n",
       "      <td>0.0</td>\n",
       "      <td>100</td>\n",
       "      <td>1.0</td>\n",
       "      <td>0.0</td>\n",
       "      <td>1</td>\n",
       "    </tr>\n",
       "    <tr>\n",
       "      <th>1541</th>\n",
       "      <td>373784</td>\n",
       "      <td>81</td>\n",
       "      <td>PixelPhase1/Tracks/PXBarrel/charge_PXLayer_1</td>\n",
       "      <td>3</td>\n",
       "      <td>[0, 0, 0, 0, 0, 0, 0, 0, 0, 0, 0, 0, 0, 0, 0, ...</td>\n",
       "      <td>0</td>\n",
       "      <td>80000.0</td>\n",
       "      <td>0.0</td>\n",
       "      <td>100</td>\n",
       "      <td>1.0</td>\n",
       "      <td>0.0</td>\n",
       "      <td>1</td>\n",
       "    </tr>\n",
       "  </tbody>\n",
       "</table>\n",
       "<p>81 rows × 12 columns</p>\n",
       "</div>"
      ],
      "text/plain": [
       "      fromrun  fromlumi                                         hname  metype  \\\n",
       "1461   373784         1  PixelPhase1/Tracks/PXBarrel/charge_PXLayer_1       3   \n",
       "1462   373784         2  PixelPhase1/Tracks/PXBarrel/charge_PXLayer_1       3   \n",
       "1463   373784         3  PixelPhase1/Tracks/PXBarrel/charge_PXLayer_1       3   \n",
       "1464   373784         4  PixelPhase1/Tracks/PXBarrel/charge_PXLayer_1       3   \n",
       "1465   373784         5  PixelPhase1/Tracks/PXBarrel/charge_PXLayer_1       3   \n",
       "...       ...       ...                                           ...     ...   \n",
       "1537   373784        77  PixelPhase1/Tracks/PXBarrel/charge_PXLayer_1       3   \n",
       "1538   373784        78  PixelPhase1/Tracks/PXBarrel/charge_PXLayer_1       3   \n",
       "1539   373784        79  PixelPhase1/Tracks/PXBarrel/charge_PXLayer_1       3   \n",
       "1540   373784        80  PixelPhase1/Tracks/PXBarrel/charge_PXLayer_1       3   \n",
       "1541   373784        81  PixelPhase1/Tracks/PXBarrel/charge_PXLayer_1       3   \n",
       "\n",
       "                                                  histo  entries     Xmax  \\\n",
       "1461  [0, 0, 0, 0, 0, 0, 0, 0, 0, 0, 0, 0, 0, 0, 0, ...        0  80000.0   \n",
       "1462  [0, 0, 0, 0, 0, 0, 0, 0, 0, 0, 0, 0, 0, 0, 0, ...        0  80000.0   \n",
       "1463  [0, 0, 0, 0, 0, 0, 0, 0, 0, 0, 0, 0, 0, 0, 0, ...        0  80000.0   \n",
       "1464  [0, 0, 0, 0, 0, 0, 0, 0, 0, 0, 0, 0, 0, 0, 0, ...        0  80000.0   \n",
       "1465  [0, 0, 0, 0, 0, 0, 0, 0, 0, 0, 0, 0, 0, 0, 0, ...        0  80000.0   \n",
       "...                                                 ...      ...      ...   \n",
       "1537  [0, 0, 0, 0, 0, 0, 0, 0, 0, 0, 0, 0, 0, 0, 0, ...        0  80000.0   \n",
       "1538  [0, 0, 0, 0, 0, 0, 0, 0, 0, 0, 0, 0, 0, 0, 0, ...        0  80000.0   \n",
       "1539  [0, 0, 0, 0, 0, 0, 0, 0, 0, 0, 0, 0, 0, 0, 0, ...        0  80000.0   \n",
       "1540  [0, 0, 0, 0, 0, 0, 0, 0, 0, 0, 0, 0, 0, 0, 0, ...        0  80000.0   \n",
       "1541  [0, 0, 0, 0, 0, 0, 0, 0, 0, 0, 0, 0, 0, 0, 0, ...        0  80000.0   \n",
       "\n",
       "      Xmin  Xbins  Ymax  Ymin  Ybins  \n",
       "1461   0.0    100   1.0   0.0      1  \n",
       "1462   0.0    100   1.0   0.0      1  \n",
       "1463   0.0    100   1.0   0.0      1  \n",
       "1464   0.0    100   1.0   0.0      1  \n",
       "1465   0.0    100   1.0   0.0      1  \n",
       "...    ...    ...   ...   ...    ...  \n",
       "1537   0.0    100   1.0   0.0      1  \n",
       "1538   0.0    100   1.0   0.0      1  \n",
       "1539   0.0    100   1.0   0.0      1  \n",
       "1540   0.0    100   1.0   0.0      1  \n",
       "1541   0.0    100   1.0   0.0      1  \n",
       "\n",
       "[81 rows x 12 columns]"
      ]
     },
     "execution_count": 60,
     "metadata": {},
     "output_type": "execute_result"
    }
   ],
   "source": [
    "ZBdf[ZBdf.loc[:,'fromrun'] == 373784]"
   ]
  },
  {
   "cell_type": "code",
   "execution_count": 72,
   "metadata": {
    "scrolled": true
   },
   "outputs": [],
   "source": [
    "HIdf['histo_norm'] = HIdf.histo.transform(lambda x: x/sum(x) if sum(x) >0 else x)\n",
    "\n",
    "ZBdf['histo_norm'] = ZBdf.histo.transform(lambda x: x/sum(x) if sum(x) >0 else x)"
   ]
  },
  {
   "cell_type": "code",
   "execution_count": 161,
   "metadata": {},
   "outputs": [],
   "source": [
    "def make_plot(df,hname,runnb,norm=False,ax=None,flow=False,**style):\n",
    "    df_reduced = df[(df.hname==hname) & (df.fromrun == runnb)].sort_values(by='fromlumi')\n",
    "    if flow:\n",
    "        bins =np.linspace(df_reduced.iloc[0].Xmin,df_reduced.iloc[0].Xmax,df_reduced.iloc[0].Xbins+3)\n",
    "    else:\n",
    "        bins =np.linspace(df_reduced.iloc[0].Xmin,df_reduced.iloc[0].Xmax,df_reduced.iloc[0].Xbins+1)\n",
    "        \n",
    "    if ax ==None:     \n",
    "        fig,ax = plt.subplots(figsize=[10,5],dpi=150)\n",
    "        \n",
    "        \n",
    "    if norm:\n",
    "        for i in range(len(df_reduced.histo)):\n",
    "            if flow:\n",
    "                ax.stairs(df_reduced['histo_norm'].iloc[i],edges=bins,**style)\n",
    "            else: \n",
    "                ax.stairs(df_reduced['histo_norm'].iloc[i][:-2],edges=bins,**style);\n",
    "    else:         \n",
    "        for i in range(len(df_reduced.histo)):\n",
    "            if flow:\n",
    "                ax.stairs(df_reduced.histo.iloc[i],edges=bins,**style);\n",
    "            else:\n",
    "                ax.stairs(df_reduced.histo.iloc[i][:-2],edges=bins,**style);\n",
    "    return ax"
   ]
  },
  {
   "cell_type": "code",
   "execution_count": 157,
   "metadata": {},
   "outputs": [
    {
     "data": {
      "text/plain": [
       "(array([374925]),\n",
       " array([373705, 373710, 373738, 373740, 373741, 373770, 373781, 373784]))"
      ]
     },
     "execution_count": 157,
     "metadata": {},
     "output_type": "execute_result"
    }
   ],
   "source": [
    "HIdf.fromrun.unique(),ZBdf.fromrun.unique()"
   ]
  },
  {
   "cell_type": "code",
   "execution_count": 160,
   "metadata": {},
   "outputs": [
    {
     "data": {
      "image/png": "[encoded data removed]",
      "text/plain": [
       "<Figure size 1500x750 with 1 Axes>"
      ]
     },
     "metadata": {
      "needs_background": "light"
     },
     "output_type": "display_data"
    }
   ],
   "source": [
    "style = dict(alpha=.1,color='b')\n",
    "fig,ax = plt.subplots(figsize=[10,5],dpi=150)\n",
    "\n",
    "make_plot(HIdf,hname,374925,norm=True,\n",
    "          ax=ax,flow=False,\n",
    "          **{**style,'color':'r'}\n",
    "         )\n",
    "\n",
    "make_plot(ZBdf,hname,373710,norm=True,\n",
    "          ax=ax,flow=False,\n",
    "          **style\n",
    "         )\n",
    "ax.set_title(hname)\n",
    "ax.legend(['374925 HI','373710 ZB'],labelcolor=['r','b'])\n",
    "plt.show()"
   ]
  },
  {
   "cell_type": "markdown",
   "metadata": {},
   "source": [
    "## Find the unique set of run numbers present in the eos area"
   ]
  },
  {
   "cell_type": "code",
   "execution_count": null,
   "metadata": {},
   "outputs": [],
   "source": [
    "branch=file['Indices'].arrays()\n",
    "branch.Run"
   ]
  },
  {
   "cell_type": "code",
   "execution_count": null,
   "metadata": {
    "scrolled": true
   },
   "outputs": [],
   "source": [
    "run_numbers=[]\n",
    "\n",
    "for file in uproot.iterate(MLP_EOS_path+'*.root:Indices'):\n",
    "    run_numbers.append(np.unique(file.Run.tolist())) # this will append unique numbers per iteration\n",
    "\n",
    "unique_numbers = list(set(ak.ravel(run_numbers))) # this will return unique run numbers present in all files read"
   ]
  },
  {
   "cell_type": "code",
   "execution_count": null,
   "metadata": {},
   "outputs": [],
   "source": [
    "ak.ravel(run_numbers)"
   ]
  },
  {
   "cell_type": "code",
   "execution_count": null,
   "metadata": {},
   "outputs": [],
   "source": [
    "len(unique_numbers),sorted(unique_numbers)"
   ]
  },
  {
   "cell_type": "markdown",
   "metadata": {},
   "source": [
    "Making this process into a function"
   ]
  },
  {
   "cell_type": "code",
   "execution_count": null,
   "metadata": {},
   "outputs": [],
   "source": [
    "def find_run_numbers(path):\n",
    "    #path = \"/eos/project/m/mlplayground/public/DQMIO/nanodqmio_from_das/\"\n",
    "    files=os.listdir(path)\n",
    "    run_numbers=[]\n",
    "\n",
    "    for file in uproot.iterate(path+'*.root:Indices'):\n",
    "        run_numbers.append(np.unique(file.Run.tolist())) # this will append unique numbers per iteration\n",
    "\n",
    "    unique_numbers = list(set(ak.ravel(run_numbers))) # this will return unique run numbers present in all files read\n",
    "    return unique_numbers"
   ]
  },
  {
   "cell_type": "markdown",
   "metadata": {},
   "source": [
    "# open CSV"
   ]
  },
  {
   "cell_type": "markdown",
   "metadata": {},
   "source": [
    "When opening from a csv file the `histo` column becomes a string for some reason.\n",
    "The following functions are there to help with this case"
   ]
  },
  {
   "cell_type": "code",
   "execution_count": 281,
   "metadata": {},
   "outputs": [],
   "source": [
    "def str2list(string):\n",
    "    return np.array( map(int,string.strip('[]').split(', ')\n",
    "                        )\n",
    "                    )\n",
    "\n",
    "def str2list_df(df):\n",
    "    dfcp = df.copy()\n",
    "    dfcp['histo'] = dfcp.histo.transform(str2list)\n",
    "    return dfcp\n",
    "\n",
    "# df = str2list_df(df)"
   ]
  }
 ],
 "metadata": {
  "@webio": {
   "lastCommId": null,
   "lastKernelId": null
  },
  "kernelspec": {
   "display_name": "Python 3",
   "language": "python",
   "name": "python3"
  },
  "language_info": {
   "codemirror_mode": {
    "name": "ipython",
    "version": 3
   },
   "file_extension": ".py",
   "mimetype": "text/x-python",
   "name": "python",
   "nbconvert_exporter": "python",
   "pygments_lexer": "ipython3",
   "version": "3.9.12"
  }
 },
 "nbformat": 4,
 "nbformat_minor": 2
}
