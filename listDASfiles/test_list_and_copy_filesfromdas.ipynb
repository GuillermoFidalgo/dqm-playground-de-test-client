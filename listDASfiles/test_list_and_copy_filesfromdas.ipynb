{
 "cells": [
  {
   "cell_type": "code",
   "execution_count": 78,
   "id": "62c24321",
   "metadata": {},
   "outputs": [
    {
     "name": "stdout",
     "output_type": "stream",
     "text": [
      "dasgoclient -query=\"dataset=/ZeroBias/Run2022*/DQMIO\" | grep -v \"Prompt\" | grep -v \"pilot\" > list_datasets.txt ; dasgoclient -query=\"dataset=/ZeroBias/Run2023*/DQMIO\" >> list_datasets.txt\n"
     ]
    }
   ],
   "source": [
    "# Make a file of all possible ZeroBias datasets of interest (2022 and 2023)\n",
    "cmd1 = 'dasgoclient -query=\"dataset=/ZeroBias/Run2022*/DQMIO\" | grep -v \"Prompt\" | grep -v \"pilot\"'\n",
    "cmd2 = 'dasgoclient -query=\"dataset=/ZeroBias/Run2023*/DQMIO\"'\n",
    "print(cmd1,\"> list_datasets.txt\" + \" ; \" + cmd2 + \" >> list_datasets.txt\")"
   ]
  },
  {
   "cell_type": "markdown",
   "id": "82d5e75c",
   "metadata": {},
   "source": [
    "The above command will return a list of datasets of interest, now we can store this list and updated it whenever we want.\n",
    "\n",
    "I iterate over this list to get the list of files to copy over."
   ]
  },
  {
   "cell_type": "markdown",
   "id": "ee9ab65d",
   "metadata": {},
   "source": [
    "```shell\n",
    "cat list_datasets.txt\n",
    "\n",
    "/ZeroBias/Run2022A-10Dec2022-v1/DQMIO\n",
    "/ZeroBias/Run2022A-19Jan2023-v2/DQMIO\n",
    "/ZeroBias/Run2022A-23Feb2023-v1/DQMIO\n",
    "/ZeroBias/Run2022B-10Dec2022-v1/DQMIO\n",
    "/ZeroBias/Run2022B-19Jan2023-v2/DQMIO\n",
    "/ZeroBias/Run2022B-23Feb2023-v1/DQMIO\n",
    "/ZeroBias/Run2022C-02Nov22-v1/DQMIO\n",
    "/ZeroBias/Run2022C-10Dec2022-v1/DQMIO\n",
    "/ZeroBias/Run2022C-23Feb2023-v1/DQMIO\n",
    "/ZeroBias/Run2022D-10Dec2022-v1/DQMIO\n",
    "/ZeroBias/Run2022D-16Jun2023-v1/DQMIO\n",
    "/ZeroBias/Run2022D-19Jan2023-v2/DQMIO\n",
    "/ZeroBias/Run2022D-23Feb2023-v1/DQMIO\n",
    "/ZeroBias/Run2022E-10Dec2022-v2/DQMIO\n",
    "/ZeroBias/Run2022E-19Jan2023-v2/DQMIO\n",
    "/ZeroBias/Run2022E-23Feb2023-v1/DQMIO\n",
    "/ZeroBias/Run2022F-19Jan2023-v2/DQMIO\n",
    "/ZeroBias/Run2022F-23Feb2023-v1/DQMIO\n",
    "/ZeroBias/Run2022G-19Jan2023-v2/DQMIO\n",
    "/ZeroBias/Run2022G-23Feb2023-v1/DQMIO\n",
    "/ZeroBias/Run2023A-PromptReco-v1/DQMIO\n",
    "/ZeroBias/Run2023A-PromptReco-v2/DQMIO\n",
    "/ZeroBias/Run2023B-PromptReco-v1/DQMIO\n",
    "/ZeroBias/Run2023C-PromptReco-v1/DQMIO\n",
    "/ZeroBias/Run2023C-PromptReco-v2/DQMIO\n",
    "/ZeroBias/Run2023C-PromptReco-v3/DQMIO\n",
    "/ZeroBias/Run2023C-PromptReco-v4/DQMIO\n",
    "/ZeroBias/Run2023D-PromptReco-v1/DQMIO\n",
    "```"
   ]
  },
  {
   "cell_type": "markdown",
   "id": "caa4142b",
   "metadata": {},
   "source": [
    "Need to read lines one by one and copy files. \n",
    "Before copy need to check if file is already copied on the area `/eos/project/m/mlplayground`"
   ]
  },
  {
   "cell_type": "code",
   "execution_count": 79,
   "id": "46054405",
   "metadata": {},
   "outputs": [],
   "source": [
    "import glob, os"
   ]
  },
  {
   "cell_type": "code",
   "execution_count": 101,
   "id": "c3cb4047",
   "metadata": {
    "scrolled": false
   },
   "outputs": [
    {
     "data": {
      "text/plain": [
       "['/ZeroBias/Run2022A-10Dec2022-v1/DQMIO',\n",
       " '/ZeroBias/Run2022A-19Jan2023-v2/DQMIO',\n",
       " '/ZeroBias/Run2022A-23Feb2023-v1/DQMIO',\n",
       " '/ZeroBias/Run2022B-10Dec2022-v1/DQMIO',\n",
       " '/ZeroBias/Run2022B-19Jan2023-v2/DQMIO',\n",
       " '/ZeroBias/Run2022B-23Feb2023-v1/DQMIO',\n",
       " '/ZeroBias/Run2022C-02Nov22-v1/DQMIO',\n",
       " '/ZeroBias/Run2022C-10Dec2022-v1/DQMIO',\n",
       " '/ZeroBias/Run2022C-23Feb2023-v1/DQMIO',\n",
       " '/ZeroBias/Run2022D-10Dec2022-v1/DQMIO',\n",
       " '/ZeroBias/Run2022D-16Jun2023-v1/DQMIO',\n",
       " '/ZeroBias/Run2022D-19Jan2023-v2/DQMIO',\n",
       " '/ZeroBias/Run2022D-23Feb2023-v1/DQMIO',\n",
       " '/ZeroBias/Run2022E-10Dec2022-v2/DQMIO',\n",
       " '/ZeroBias/Run2022E-19Jan2023-v2/DQMIO',\n",
       " '/ZeroBias/Run2022E-23Feb2023-v1/DQMIO',\n",
       " '/ZeroBias/Run2022F-19Jan2023-v2/DQMIO',\n",
       " '/ZeroBias/Run2022F-23Feb2023-v1/DQMIO',\n",
       " '/ZeroBias/Run2022G-19Jan2023-v2/DQMIO',\n",
       " '/ZeroBias/Run2022G-23Feb2023-v1/DQMIO',\n",
       " '/ZeroBias/Run2023A-PromptReco-v1/DQMIO',\n",
       " '/ZeroBias/Run2023A-PromptReco-v2/DQMIO',\n",
       " '/ZeroBias/Run2023B-PromptReco-v1/DQMIO',\n",
       " '/ZeroBias/Run2023C-PromptReco-v1/DQMIO',\n",
       " '/ZeroBias/Run2023C-PromptReco-v2/DQMIO',\n",
       " '/ZeroBias/Run2023C-PromptReco-v3/DQMIO',\n",
       " '/ZeroBias/Run2023C-PromptReco-v4/DQMIO',\n",
       " '/ZeroBias/Run2023D-PromptReco-v1/DQMIO']"
      ]
     },
     "execution_count": 101,
     "metadata": {},
     "output_type": "execute_result"
    }
   ],
   "source": [
    "file = open(\"list_datasets.txt\")\n",
    "datasets= [line.strip() for line in file.readlines()]\n",
    "file.close()\n",
    "del file\n",
    "datasets"
   ]
  },
  {
   "cell_type": "code",
   "execution_count": 81,
   "id": "163e249c",
   "metadata": {
    "scrolled": true
   },
   "outputs": [
    {
     "data": {
      "text/plain": [
       "28"
      ]
     },
     "execution_count": 81,
     "metadata": {},
     "output_type": "execute_result"
    }
   ],
   "source": [
    "len(datasets)"
   ]
  },
  {
   "cell_type": "code",
   "execution_count": 82,
   "id": "9cd8fa38",
   "metadata": {},
   "outputs": [
    {
     "name": "stdout",
     "output_type": "stream",
     "text": [
      "dasgoclient -query=\"file dataset=/ZeroBias/Run2022A-10Dec2022-v1/DQMIO\" > listfiles.txt\n",
      "dasgoclient -query=\"file dataset=/ZeroBias/Run2022A-19Jan2023-v2/DQMIO\" >> listfiles.txt\n",
      "dasgoclient -query=\"file dataset=/ZeroBias/Run2022A-23Feb2023-v1/DQMIO\" >> listfiles.txt\n",
      "dasgoclient -query=\"file dataset=/ZeroBias/Run2022B-10Dec2022-v1/DQMIO\" >> listfiles.txt\n",
      "dasgoclient -query=\"file dataset=/ZeroBias/Run2022B-19Jan2023-v2/DQMIO\" >> listfiles.txt\n",
      "dasgoclient -query=\"file dataset=/ZeroBias/Run2022B-23Feb2023-v1/DQMIO\" >> listfiles.txt\n",
      "dasgoclient -query=\"file dataset=/ZeroBias/Run2022C-02Nov22-v1/DQMIO\" >> listfiles.txt\n",
      "dasgoclient -query=\"file dataset=/ZeroBias/Run2022C-10Dec2022-v1/DQMIO\" >> listfiles.txt\n",
      "dasgoclient -query=\"file dataset=/ZeroBias/Run2022C-23Feb2023-v1/DQMIO\" >> listfiles.txt\n",
      "dasgoclient -query=\"file dataset=/ZeroBias/Run2022D-10Dec2022-v1/DQMIO\" >> listfiles.txt\n",
      "dasgoclient -query=\"file dataset=/ZeroBias/Run2022D-16Jun2023-v1/DQMIO\" >> listfiles.txt\n",
      "dasgoclient -query=\"file dataset=/ZeroBias/Run2022D-19Jan2023-v2/DQMIO\" >> listfiles.txt\n",
      "dasgoclient -query=\"file dataset=/ZeroBias/Run2022D-23Feb2023-v1/DQMIO\" >> listfiles.txt\n",
      "dasgoclient -query=\"file dataset=/ZeroBias/Run2022E-10Dec2022-v2/DQMIO\" >> listfiles.txt\n",
      "dasgoclient -query=\"file dataset=/ZeroBias/Run2022E-19Jan2023-v2/DQMIO\" >> listfiles.txt\n",
      "dasgoclient -query=\"file dataset=/ZeroBias/Run2022E-23Feb2023-v1/DQMIO\" >> listfiles.txt\n",
      "dasgoclient -query=\"file dataset=/ZeroBias/Run2022F-19Jan2023-v2/DQMIO\" >> listfiles.txt\n",
      "dasgoclient -query=\"file dataset=/ZeroBias/Run2022F-23Feb2023-v1/DQMIO\" >> listfiles.txt\n",
      "dasgoclient -query=\"file dataset=/ZeroBias/Run2022G-19Jan2023-v2/DQMIO\" >> listfiles.txt\n",
      "dasgoclient -query=\"file dataset=/ZeroBias/Run2022G-23Feb2023-v1/DQMIO\" >> listfiles.txt\n",
      "dasgoclient -query=\"file dataset=/ZeroBias/Run2023A-PromptReco-v1/DQMIO\" >> listfiles.txt\n",
      "dasgoclient -query=\"file dataset=/ZeroBias/Run2023A-PromptReco-v2/DQMIO\" >> listfiles.txt\n",
      "dasgoclient -query=\"file dataset=/ZeroBias/Run2023B-PromptReco-v1/DQMIO\" >> listfiles.txt\n",
      "dasgoclient -query=\"file dataset=/ZeroBias/Run2023C-PromptReco-v1/DQMIO\" >> listfiles.txt\n",
      "dasgoclient -query=\"file dataset=/ZeroBias/Run2023C-PromptReco-v2/DQMIO\" >> listfiles.txt\n",
      "dasgoclient -query=\"file dataset=/ZeroBias/Run2023C-PromptReco-v3/DQMIO\" >> listfiles.txt\n",
      "dasgoclient -query=\"file dataset=/ZeroBias/Run2023C-PromptReco-v4/DQMIO\" >> listfiles.txt\n",
      "dasgoclient -query=\"file dataset=/ZeroBias/Run2023D-PromptReco-v1/DQMIO\" >> listfiles.txt\n"
     ]
    }
   ],
   "source": [
    "# IMPORTANT This file does not run form inside SWAN env. Only run this on a terminal in the working directory.\n",
    "\n",
    "# import subprocess\n",
    "\n",
    "# eras = ['A','B','C','D','E','F','G']\n",
    "for i,dataset in enumerate(datasets):\n",
    "    \n",
    "    if i == 0:\n",
    "        cmd = f'dasgoclient -query=\"file dataset={dataset}\" > listfiles.txt' \n",
    "    else:\n",
    "        cmd = f'dasgoclient -query=\"file dataset={dataset}\" >> listfiles.txt'\n",
    "    \n",
    "    # subprocess.run(cmd, shell=True, check=False)\n",
    "    print(cmd)"
   ]
  },
  {
   "cell_type": "code",
   "execution_count": 75,
   "id": "10ea1067",
   "metadata": {
    "scrolled": true
   },
   "outputs": [
    {
     "data": {
      "text/plain": [
       "['cronoutput/all_files.txt', 'cronoutput/cronjob.sh']"
      ]
     },
     "execution_count": 75,
     "metadata": {},
     "output_type": "execute_result"
    }
   ],
   "source": [
    "glob.glob('cron*/*',recursive=True)"
   ]
  },
  {
   "cell_type": "code",
   "execution_count": 8,
   "id": "9f1e1e20",
   "metadata": {
    "scrolled": false
   },
   "outputs": [
    {
     "name": "stdout",
     "output_type": "stream",
     "text": [
      "2428\n"
     ]
    }
   ],
   "source": [
    "\n",
    "f = open(\"tempfile.txt\",'r')\n",
    "files = [i.rstrip('\\n') for i in f.readlines()]\n",
    "f.close()\n",
    "del f\n",
    "print(len(files))"
   ]
  },
  {
   "cell_type": "code",
   "execution_count": 70,
   "id": "bf0827fc",
   "metadata": {},
   "outputs": [
    {
     "data": {
      "text/plain": [
       "'/eos/home-g/gfidalgo/SWAN_projects/dqm-playground-de-test-client/listDASfiles/list_datasets.txt'"
      ]
     },
     "execution_count": 70,
     "metadata": {},
     "output_type": "execute_result"
    }
   ],
   "source": [
    "os.path.abspath('list_datasets.txt')"
   ]
  },
  {
   "cell_type": "code",
   "execution_count": 78,
   "id": "a9fd1b0b",
   "metadata": {},
   "outputs": [
    {
     "name": "stdout",
     "output_type": "stream",
     "text": [
      "No\n"
     ]
    }
   ],
   "source": [
    "verb = False\n",
    "print(f\"{verb}\") if verb else print('No')"
   ]
  },
  {
   "cell_type": "code",
   "execution_count": 1,
   "id": "f05bf49e",
   "metadata": {},
   "outputs": [],
   "source": [
    "def file_downloaded(filename,directory='./'):\n",
    "    return os.path.exists(directory.rstrip('/')+\"/\"+filename)"
   ]
  },
  {
   "cell_type": "code",
   "execution_count": 91,
   "id": "fc6336a0",
   "metadata": {
    "collapsed": true
   },
   "outputs": [
    {
     "name": "stdout",
     "output_type": "stream",
     "text": [
      "Output directory dasfiles already exists\n",
      "Downloading to dasfiles\n",
      "Input number of files to copy: \t42\n",
      "Downloading only subset of 42 files into dasfiles\n",
      "store_data_Run2022A_ZeroBias_DQMIO_19Jan2023-v2_30000_DD2CC4FA-EF58-49AF-9BFB-F0ABE41BC4F4.root already present. Moving on the the next!!!\n",
      "Downloading store_data_Run2022A_ZeroBias_DQMIO_19Jan2023-v2_30000_23F53374-C49D-4BBA-BAB7-05412999556A.root\n",
      "store_data_Run2022A_ZeroBias_DQMIO_19Jan2023-v2_30000_18BE9BCB-8882-4E60-B021-AE2866470FA8.root already present. Moving on the the next!!!\n",
      "Downloading store_data_Run2022A_ZeroBias_DQMIO_19Jan2023-v2_30000_298E9DED-706B-4E7B-9A84-765AB5B70373.root\n",
      "store_data_Run2022A_ZeroBias_DQMIO_19Jan2023-v2_2550000_B7C5D067-F538-42CE-9261-033D668E62D0.root already present. Moving on the the next!!!\n",
      "Downloading store_data_Run2022B_ZeroBias_DQMIO_19Jan2023-v2_2550000_BA306EFA-20CD-4656-9442-DE5DB377E5E4.root\n",
      "Downloading store_data_Run2022B_ZeroBias_DQMIO_19Jan2023-v2_2550000_9BE1219F-F76E-41AA-B2B6-70E683088D66.root\n",
      "Downloading store_data_Run2022B_ZeroBias_DQMIO_19Jan2023-v2_30000_85B17769-07CC-4D99-96A6-0C7638BF23EA.root\n",
      "Downloading store_data_Run2022B_ZeroBias_DQMIO_19Jan2023-v2_30000_2946B5DA-7867-4823-B759-0EB47ED244A3.root\n",
      "Downloading store_data_Run2022B_ZeroBias_DQMIO_19Jan2023-v2_2550000_FC91B007-1909-4201-9D56-E3DAFA79CAA8.root\n",
      "Downloading store_data_Run2022B_ZeroBias_DQMIO_19Jan2023-v2_2550000_663F833B-0425-4EC4-8DB7-4D53D3DEE728.root\n",
      "Downloading store_data_Run2022B_ZeroBias_DQMIO_19Jan2023-v2_2550000_2BB699FA-3C27-4AD9-8196-0B7B65F3AAB2.root\n",
      "Downloading store_data_Run2022B_ZeroBias_DQMIO_19Jan2023-v2_2550000_CD1B9A0D-1E40-4058-BFC2-B07178D5B31A.root\n",
      "Downloading store_data_Run2022B_ZeroBias_DQMIO_19Jan2023-v2_2550000_89B9C584-9CCF-4E73-9EF6-FD69B0ECD3B9.root\n",
      "Downloading store_data_Run2022B_ZeroBias_DQMIO_19Jan2023-v2_2550000_8F4B4FFB-5245-4C06-A1F0-525870E9DA83.root\n",
      "Downloading store_data_Run2022B_ZeroBias_DQMIO_19Jan2023-v2_2550000_8B0A0310-4A2D-4153-BF42-3F6A396C3622.root\n",
      "Downloading store_data_Run2022B_ZeroBias_DQMIO_19Jan2023-v2_2550000_AE1B99C5-403E-40A1-A06F-620D9C724487.root\n",
      "Downloading store_data_Run2022B_ZeroBias_DQMIO_19Jan2023-v2_2550000_1B69EB3A-B5E1-4E41-B8E2-AED5346C434C.root\n",
      "Downloading store_data_Run2022D_ZeroBias_DQMIO_19Jan2023-v2_40000_FB45BA33-70BF-4030-9C98-08927D16BA80.root\n",
      "Downloading store_data_Run2022D_ZeroBias_DQMIO_19Jan2023-v2_40000_78CA1164-625A-4CA3-A91B-CC3CA3032951.root\n",
      "Downloading store_data_Run2022D_ZeroBias_DQMIO_19Jan2023-v2_40000_67290B88-04B8-4225-80EF-DDA0752F7FF7.root\n",
      "Downloading store_data_Run2022D_ZeroBias_DQMIO_19Jan2023-v2_2550000_AD12D839-BAFE-434A-A417-B11932FA0F7C.root\n",
      "Downloading store_data_Run2022D_ZeroBias_DQMIO_19Jan2023-v2_2550000_C31D4D5E-848B-4040-9534-851C05EC3FCB.root\n",
      "Downloading store_data_Run2022D_ZeroBias_DQMIO_19Jan2023-v2_30000_65E24798-E323-43BB-AE4E-62E1296624ED.root\n",
      "Downloading store_data_Run2022D_ZeroBias_DQMIO_19Jan2023-v2_30000_B884CCEA-905C-4CBD-9D40-6F1D218F0B23.root\n",
      "Downloading store_data_Run2022D_ZeroBias_DQMIO_19Jan2023-v2_30000_B6D5A9FC-8F17-4FF9-8743-BDDEABBF4717.root\n",
      "Downloading store_data_Run2022D_ZeroBias_DQMIO_19Jan2023-v2_2550000_2A79B847-BBDB-4AE4-8293-3362FDE502E8.root\n",
      "Downloading store_data_Run2022D_ZeroBias_DQMIO_19Jan2023-v2_30000_EDF5F7FB-8BED-4E2A-BE06-3F5113431726.root\n",
      "Downloading store_data_Run2022D_ZeroBias_DQMIO_19Jan2023-v2_30000_9DB27D46-5CE4-46B0-BABB-53EBF39260A9.root\n",
      "Downloading store_data_Run2022D_ZeroBias_DQMIO_19Jan2023-v2_30000_5AA77EB7-7E78-467B-8C7A-8426B180227B.root\n",
      "Downloading store_data_Run2022D_ZeroBias_DQMIO_19Jan2023-v2_40000_0B89E344-F372-47F8-990F-2AA9DB4B0E5C.root\n",
      "Downloading store_data_Run2022D_ZeroBias_DQMIO_19Jan2023-v2_40000_247814FE-C98E-463E-A3A9-143D200892EE.root\n",
      "Downloading store_data_Run2022D_ZeroBias_DQMIO_19Jan2023-v2_40000_184926BC-9889-47BF-8D03-C62642B860BC.root\n",
      "Downloading store_data_Run2022D_ZeroBias_DQMIO_19Jan2023-v2_40000_66FCF3FF-D995-4647-B2BD-42D496CF59D8.root\n",
      "Downloading store_data_Run2022D_ZeroBias_DQMIO_19Jan2023-v2_40000_B455A66C-A80D-4EEC-ABA5-F65039DCF5F9.root\n",
      "Downloading store_data_Run2022D_ZeroBias_DQMIO_19Jan2023-v2_40000_8E3A90E0-D296-4711-9079-9DE7DE3E7A82.root\n",
      "Downloading store_data_Run2022D_ZeroBias_DQMIO_19Jan2023-v2_40000_D7371FFC-2DCA-416E-8E4A-B81721980791.root\n",
      "Downloading store_data_Run2022E_ZeroBias_DQMIO_19Jan2023-v2_2550000_D09E9810-7889-4281-85C2-3C7A7E023A12.root\n",
      "Downloading store_data_Run2022E_ZeroBias_DQMIO_19Jan2023-v2_2550000_59BBA611-1C18-4C02-B08D-60B5709DEEC9.root\n",
      "Downloading store_data_Run2022E_ZeroBias_DQMIO_19Jan2023-v2_30000_34DFC233-EB79-432E-B322-6E54096CB00C.root\n",
      "Downloading store_data_Run2022E_ZeroBias_DQMIO_19Jan2023-v2_30000_289321DF-82A6-4B3E-99AA-77CE7280711B.root\n",
      "Downloading store_data_Run2022E_ZeroBias_DQMIO_19Jan2023-v2_40000_798EEC2D-B37A-44FF-B623-8FB8B6299A72.root\n"
     ]
    }
   ],
   "source": [
    "outputdir = 'dasfiles'\n",
    "\n",
    "if os.path.exists(outputdir):\n",
    "    print(f'Output directory {outputdir} already exists\\nDownloading to {outputdir}')\n",
    "else:\n",
    "    os.makedirs(outputdir)\n",
    "\n",
    "TESTING = True\n",
    "\n",
    "if TESTING :\n",
    "    nfiles = int(input('Input number of files to copy: \\t'))\n",
    "    print(f\"Downloading only subset of {nfiles} files into {outputdir}\")\n",
    "else:\n",
    "    nfiles = None\n",
    "REDIR='root://cms-xrd-global.cern.ch/'\n",
    "for file in files[slice(nfiles)]:\n",
    "    cmd = f'xrdcp {REDIR}{file} {outputdir}'\n",
    "#     print(cmd)\n",
    "    fname = file.strip('/').replace('/','_')\n",
    "    if file_downloaded(fname,outputdir): \n",
    "        print(f'{fname} already present. Moving on the the next!!!')\n",
    "    else:\n",
    "        print(f'Downloading {fname}')\n",
    "              \n",
    "                                                       "
   ]
  },
  {
   "cell_type": "code",
   "execution_count": 6,
   "id": "c7fd7478",
   "metadata": {
    "scrolled": true
   },
   "outputs": [
    {
     "name": "stdout",
     "output_type": "stream",
     "text": [
      "# # IMPORTANT This file does not run form inside SWAN env. Only run this on a terminal at the working directory.\r\n",
      "import subprocess, os, argparse\r\n",
      "\r\n",
      "\r\n",
      "# read arguments\r\n",
      "parser = argparse.ArgumentParser(description='Copy files from DAS to local')\r\n",
      "parser.add_argument('--redirector', default='root://cms-xrd-global.cern.ch/',\r\n",
      "                  help='Redirector to read remote files')\r\n",
      "parser.add_argument('--outputdir', default=os.path.abspath('.'),\r\n",
      "                  help='Local directory where to put the copied file')\r\n",
      "parser.add_argument('--nfiles', default=None,type=int,\r\n",
      "                  help=\"Limit the number of files to copy. (Default: all files from the listfiles.txt will be downloaded)\")\r\n",
      "parser.add_argument(\"--listfiles\",type=str,\r\n",
      "                    default='/eos/home-g/gfidalgo/SWAN_projects/dqm-playground-de-test-client/listDASfiles/listfiles.txt',\r\n",
      "                    help='A text file with list of paths from DAS.')\r\n",
      "parser.add_argument(\"-v\",\"--verbose\",action=\"store_true\",\r\n",
      "                    help=\"Prints to screen what files are already found in the outputdir\")\r\n",
      "\r\n",
      "args = parser.parse_args()\r\n",
      "\r\n",
      "redirector = args.redirector\r\n",
      "outputdir = args.outputdir\r\n",
      "nfiles=args.nfiles\r\n",
      "listfiles = args.listfiles\r\n",
      "verbose = args.verbose\r\n",
      "\r\n",
      "f = open(listfiles,'r')\r\n",
      "files = [i.rstrip('\\n') for i in f.readlines()]\r\n",
      "f.close()\r\n",
      "del f\r\n",
      "\r\n",
      "def file_downloaded(filename,directory='./'):\r\n",
      "    return os.path.exists(directory.rstrip('/')+\"/\"+filename)\r\n",
      "\r\n",
      "\r\n",
      "if os.path.exists(outputdir):\r\n",
      "    print(f'Directory {outputdir} already exists. Downloading to {outputdir}')\r\n",
      "else:\r\n",
      "    print(f'Downloading to {outputdir}')\r\n",
      "    os.makedirs(outputdir)\r\n",
      "\r\n",
      "if nfiles != None:\r\n",
      "    print(f\"Downloading {nfiles} files into {outputdir}\")\r\n",
      "\r\n",
      "for file in files[slice(nfiles)]:\r\n",
      "    fname = file.strip('/').replace('/','_')\r\n",
      "    cmd = f'xrdcp {redirector}{file} {outputdir}/{fname}'\r\n",
      "    if file_downloaded(fname,outputdir): \r\n",
      "        if verbose:\r\n",
      "            print(f'{fname} already present. Moving on the the next!')\r\n",
      "        continue\r\n",
      "    else: \r\n",
      "        subprocess.run(cmd, shell=True, check=False)"
     ]
    }
   ],
   "source": [
    "! cat \"copy_dasfiles.py\""
   ]
  },
  {
   "cell_type": "code",
   "execution_count": null,
   "id": "ecacf34b",
   "metadata": {},
   "outputs": [],
   "source": []
  },
  {
   "cell_type": "code",
   "execution_count": 38,
   "id": "3470471d",
   "metadata": {},
   "outputs": [
    {
     "name": "stdout",
     "output_type": "stream",
     "text": [
      "total 649M\r\n",
      "-rw-r--r--. 1 gfidalgo 1399  92M Apr  6 06:54 DD2CC4FA-EF58-49AF-9BFB-F0ABE41BC4F4.root\r\n",
      "-rw-r--r--. 1 gfidalgo 1399 243M Apr  6 06:58 23F53374-C49D-4BBA-BAB7-05412999556A.root\r\n",
      "-rw-r--r--. 1 gfidalgo 1399 137M Apr  6 06:58 18BE9BCB-8882-4E60-B021-AE2866470FA8.root\r\n",
      "-rw-r--r--. 1 gfidalgo 1399 157M Apr  6 06:58 298E9DED-706B-4E7B-9A84-765AB5B70373.root\r\n",
      "-rw-r--r--. 1 gfidalgo 1399  21M Apr  6 07:24 B7C5D067-F538-42CE-9261-033D668E62D0.root\r\n",
      "drwxr-xr-x. 2 gfidalgo 1399 4.0K Apr  6 07:24 .\r\n",
      "drwxr-xr-x. 2 gfidalgo 1399 4.0K Apr 24 01:33 ..\r\n"
     ]
    }
   ],
   "source": [
    "# ! rm /eos/project/m/mlplayground/public/DQMIO/nanodqmio_from_das/*.root\n",
    "# ! ls -alhtr /eos/project/m/mlplayground/public/DQMIO/nanodqmio_from_das/\n",
    "\n",
    "# ! rm dasfiles/*.root"
   ]
  },
  {
   "cell_type": "markdown",
   "id": "98ddf8a0",
   "metadata": {},
   "source": [
    "## Making a diffing function that will only download new files"
   ]
  },
  {
   "cell_type": "code",
   "execution_count": null,
   "id": "4097fd3c",
   "metadata": {},
   "outputs": [],
   "source": []
  }
 ],
 "metadata": {
  "kernelspec": {
   "display_name": "Python 3",
   "language": "python",
   "name": "python3"
  },
  "language_info": {
   "codemirror_mode": {
    "name": "ipython",
    "version": 3
   },
   "file_extension": ".py",
   "mimetype": "text/x-python",
   "name": "python",
   "nbconvert_exporter": "python",
   "pygments_lexer": "ipython3",
   "version": "3.9.12"
  }
 },
 "nbformat": 4,
 "nbformat_minor": 5
}
