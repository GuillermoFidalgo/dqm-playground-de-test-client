{
 "cells": [
  {
   "cell_type": "code",
   "execution_count": 1,
   "metadata": {},
   "outputs": [],
   "source": [
    "import numpy as np\n",
    "import matplotlib.pyplot as plt\n",
    "import uproot, hist\n",
    "import pandas as pd\n",
    "import awkward as ak\n",
    "import os,sys,subprocess"
   ]
  },
  {
   "cell_type": "code",
   "execution_count": 99,
   "metadata": {},
   "outputs": [],
   "source": [
    "MLP_EOS_path = \"/eos/project/m/mlplayground/public/DQMIO/nanodqmio_from_das/\"\n",
    "files=os.listdir(f'{MLP_EOS_path}')\n",
    "file = uproot.open(f'{MLP_EOS_path}{files[1]}')"
   ]
  },
  {
   "cell_type": "code",
   "execution_count": 5,
   "metadata": {
    "scrolled": true
   },
   "outputs": [
    {
     "data": {
      "text/plain": [
       "['cms::edm::GUID;1',\n",
       " 'MetaData;1',\n",
       " 'MetaData/ProcessHistories;1',\n",
       " 'MetaData/ParameterSets;1',\n",
       " 'Indices;1',\n",
       " 'Ints;1',\n",
       " 'Floats;1',\n",
       " 'Strings;1',\n",
       " 'TH1Fs;1',\n",
       " 'TH1Ss;1',\n",
       " 'TH1Ds;1',\n",
       " 'TH2Fs;1',\n",
       " 'TH2Ss;1',\n",
       " 'TH2Ds;1',\n",
       " 'TH3Fs;1',\n",
       " 'TProfiles;1',\n",
       " 'TProfile2Ds;1',\n",
       " 'TH1Is;1',\n",
       " 'TH2Is;1']"
      ]
     },
     "execution_count": 5,
     "metadata": {},
     "output_type": "execute_result"
    }
   ],
   "source": [
    "file.keys()"
   ]
  },
  {
   "cell_type": "code",
   "execution_count": 104,
   "metadata": {},
   "outputs": [
    {
     "data": {
      "text/plain": [
       "<Array [352903, 352903, ... 353018, 353018] type='4752 * uint32'>"
      ]
     },
     "execution_count": 104,
     "metadata": {},
     "output_type": "execute_result"
    }
   ],
   "source": [
    "branch=file['Indices'].arrays()\n",
    "branch.Run"
   ]
  },
  {
   "cell_type": "code",
   "execution_count": 98,
   "metadata": {},
   "outputs": [
    {
     "data": {
      "text/plain": [
       "[352567, 352572, 352900, 352903, 352906, 352907, 352908, 352909]"
      ]
     },
     "execution_count": 98,
     "metadata": {},
     "output_type": "execute_result"
    }
   ],
   "source": [
    "np.unique(branch.Run).tolist()"
   ]
  },
  {
   "cell_type": "code",
   "execution_count": 101,
   "metadata": {},
   "outputs": [
    {
     "data": {
      "text/plain": [
       "[352903, 352906, 352907, 352908, 352909, 352911, 352929, 352930, 352931, 353013, 353014, 353015, 353018]"
      ]
     },
     "execution_count": 101,
     "metadata": {},
     "output_type": "execute_result"
    }
   ],
   "source": [
    "np.unique(branch.Run)"
   ]
  },
  {
   "cell_type": "code",
   "execution_count": null,
   "metadata": {},
   "outputs": [],
   "source": [
    "for file in uproot.iterate(f'{MLP_EOS_path}'+'*.root:Indices')"
   ]
  },
  {
   "cell_type": "code",
   "execution_count": 34,
   "metadata": {},
   "outputs": [
    {
     "name": "stdout",
     "output_type": "stream",
     "text": [
      "cms::edm::GUID;1\n",
      "\n",
      "--------------------TH2Fs;5--------------------\n",
      "name                 | typename                 | interpretation                \n",
      "---------------------+--------------------------+-------------------------------\n",
      "FullName             | std::string              | AsStrings()\n",
      "Flags                | uint32_t                 | AsDtype('>u4')\n",
      "Value                | TH2F                     | AsObjects(AsDynamic(model=M...\n",
      "None\n",
      "--------------------TH2Fs;4--------------------\n",
      "name                 | typename                 | interpretation                \n",
      "---------------------+--------------------------+-------------------------------\n",
      "FullName             | std::string              | AsStrings()\n",
      "Flags                | uint32_t                 | AsDtype('>u4')\n",
      "Value                | TH2F                     | AsObjects(AsDynamic(model=M...\n",
      "None\n",
      "MetaData;1\n",
      "\n",
      "MetaData/ProcessHistories;1\n",
      "\n",
      "MetaData/ParameterSets;1\n",
      "\n",
      "--------------------Indices;1--------------------\n",
      "name                 | typename                 | interpretation                \n",
      "---------------------+--------------------------+-------------------------------\n",
      "Run                  | uint32_t                 | AsDtype('>u4')\n",
      "Lumi                 | uint32_t                 | AsDtype('>u4')\n",
      "ProcessHistoryIndex  | uint32_t                 | AsDtype('>u4')\n",
      "BeginTime            | uint64_t                 | AsDtype('>u8')\n",
      "EndTime              | uint64_t                 | AsDtype('>u8')\n",
      "Type                 | uint32_t                 | AsDtype('>u4')\n",
      "FirstIndex           | uint64_t                 | AsDtype('>u8')\n",
      "LastIndex            | uint64_t                 | AsDtype('>u8')\n",
      "None\n",
      "--------------------Ints;1--------------------\n",
      "name                 | typename                 | interpretation                \n",
      "---------------------+--------------------------+-------------------------------\n",
      "FullName             | std::string              | AsStrings()\n",
      "Flags                | uint32_t                 | AsDtype('>u4')\n",
      "Value                | int64_t                  | AsDtype('>i8')\n",
      "None\n",
      "--------------------Floats;1--------------------\n",
      "name                 | typename                 | interpretation                \n",
      "---------------------+--------------------------+-------------------------------\n",
      "FullName             | std::string              | AsStrings()\n",
      "Flags                | uint32_t                 | AsDtype('>u4')\n",
      "Value                | double                   | AsDtype('>f8')\n",
      "None\n",
      "--------------------Strings;1--------------------\n",
      "name                 | typename                 | interpretation                \n",
      "---------------------+--------------------------+-------------------------------\n",
      "FullName             | std::string              | AsStrings()\n",
      "Flags                | uint32_t                 | AsDtype('>u4')\n",
      "Value                | std::string              | AsStrings()\n",
      "None\n",
      "--------------------TH1Fs;1--------------------\n",
      "name                 | typename                 | interpretation                \n",
      "---------------------+--------------------------+-------------------------------\n",
      "FullName             | std::string              | AsStrings()\n",
      "Flags                | uint32_t                 | AsDtype('>u4')\n",
      "Value                | TH1F                     | AsObjects(Model_TH1F)\n",
      "None\n",
      "--------------------TH1Ss;1--------------------\n",
      "name                 | typename                 | interpretation                \n",
      "---------------------+--------------------------+-------------------------------\n",
      "FullName             | std::string              | AsStrings()\n",
      "Flags                | uint32_t                 | AsDtype('>u4')\n",
      "Value                | TH1S                     | AsObjects(Model_TH1S)\n",
      "None\n",
      "--------------------TH1Ds;1--------------------\n",
      "name                 | typename                 | interpretation                \n",
      "---------------------+--------------------------+-------------------------------\n",
      "FullName             | std::string              | AsStrings()\n",
      "Flags                | uint32_t                 | AsDtype('>u4')\n",
      "Value                | TH1D                     | AsObjects(Model_TH1D)\n",
      "None\n",
      "--------------------TH2Ss;1--------------------\n",
      "name                 | typename                 | interpretation                \n",
      "---------------------+--------------------------+-------------------------------\n",
      "FullName             | std::string              | AsStrings()\n",
      "Flags                | uint32_t                 | AsDtype('>u4')\n",
      "Value                | TH2S                     | AsObjects(AsDynamic(model=M...\n",
      "None\n",
      "--------------------TH2Ds;1--------------------\n",
      "name                 | typename                 | interpretation                \n",
      "---------------------+--------------------------+-------------------------------\n",
      "FullName             | std::string              | AsStrings()\n",
      "Flags                | uint32_t                 | AsDtype('>u4')\n",
      "Value                | TH2D                     | AsObjects(AsDynamic(model=M...\n",
      "None\n",
      "--------------------TH3Fs;1--------------------\n",
      "name                 | typename                 | interpretation                \n",
      "---------------------+--------------------------+-------------------------------\n",
      "FullName             | std::string              | AsStrings()\n",
      "Flags                | uint32_t                 | AsDtype('>u4')\n",
      "Value                | TH3F                     | AsObjects(AsDynamic(model=M...\n",
      "None\n",
      "--------------------TProfiles;1--------------------\n",
      "name                 | typename                 | interpretation                \n",
      "---------------------+--------------------------+-------------------------------\n",
      "FullName             | std::string              | AsStrings()\n",
      "Flags                | uint32_t                 | AsDtype('>u4')\n",
      "Value                | TProfile                 | AsObjects(AsDynamic(model=M...\n",
      "None\n",
      "--------------------TProfile2Ds;1--------------------\n",
      "name                 | typename                 | interpretation                \n",
      "---------------------+--------------------------+-------------------------------\n",
      "FullName             | std::string              | AsStrings()\n",
      "Flags                | uint32_t                 | AsDtype('>u4')\n",
      "Value                | TProfile2D               | AsObjects(AsDynamic(model=M...\n",
      "None\n",
      "--------------------TH1Is;1--------------------\n",
      "name                 | typename                 | interpretation                \n",
      "---------------------+--------------------------+-------------------------------\n",
      "FullName             | std::string              | AsStrings()\n",
      "Flags                | uint32_t                 | AsDtype('>u4')\n",
      "Value                | TH1I                     | AsObjects(Model_TH1I)\n",
      "None\n",
      "--------------------TH2Is;1--------------------\n",
      "name                 | typename                 | interpretation                \n",
      "---------------------+--------------------------+-------------------------------\n",
      "FullName             | std::string              | AsStrings()\n",
      "Flags                | uint32_t                 | AsDtype('>u4')\n",
      "Value                | TH2I                     | AsObjects(Model_TH2I)\n",
      "None\n"
     ]
    }
   ],
   "source": [
    "for indx,key in enumerate(file):\n",
    "    if indx == 0 or 'Meta' in key: \n",
    "        print(key+'\\n') \n",
    "        continue\n",
    "    print('--'*10+key+'--'*10)\n",
    "    print(file[key].show())"
   ]
  },
  {
   "cell_type": "code",
   "execution_count": 35,
   "metadata": {},
   "outputs": [
    {
     "name": "stdout",
     "output_type": "stream",
     "text": [
      "name                 | typename                 | interpretation                \n",
      "---------------------+--------------------------+-------------------------------\n",
      "FullName             | std::string              | AsStrings()\n",
      "Flags                | uint32_t                 | AsDtype('>u4')\n",
      "Value                | TH1F                     | AsObjects(Model_TH1F)\n"
     ]
    }
   ],
   "source": [
    "th1fs = file['TH1Fs']\n",
    "th1fs.show()"
   ]
  },
  {
   "cell_type": "code",
   "execution_count": 41,
   "metadata": {},
   "outputs": [
    {
     "data": {
      "text/plain": [
       "<Array [...] type='153252 * {\"FullName\": string}'>"
      ]
     },
     "execution_count": 41,
     "metadata": {},
     "output_type": "execute_result"
    }
   ],
   "source": [
    "th1fs['FullName"
   ]
  },
  {
   "cell_type": "code",
   "execution_count": null,
   "metadata": {},
   "outputs": [],
   "source": []
  }
 ],
 "metadata": {
  "kernelspec": {
   "display_name": "Python 3",
   "language": "python",
   "name": "python3"
  },
  "language_info": {
   "codemirror_mode": {
    "name": "ipython",
    "version": 3
   },
   "file_extension": ".py",
   "mimetype": "text/x-python",
   "name": "python",
   "nbconvert_exporter": "python",
   "pygments_lexer": "ipython3",
   "version": "3.9.12"
  }
 },
 "nbformat": 4,
 "nbformat_minor": 2
}
