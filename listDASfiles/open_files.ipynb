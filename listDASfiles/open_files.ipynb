{
 "cells": [
  {
   "cell_type": "code",
   "execution_count": 1,
   "metadata": {},
   "outputs": [],
   "source": [
    "import numpy as np\n",
    "import matplotlib.pyplot as plt\n",
    "import uproot, hist\n",
    "import pandas as pd\n",
    "import awkward as ak\n",
    "import os,sys,subprocess"
   ]
  },
  {
   "cell_type": "code",
   "execution_count": 66,
   "metadata": {},
   "outputs": [
    {
     "data": {
      "text/plain": [
       "['cms::edm::GUID;1',\n",
       " 'TH2Fs;5',\n",
       " 'TH2Fs;4',\n",
       " 'MetaData;1',\n",
       " 'MetaData/ProcessHistories;1',\n",
       " 'MetaData/ParameterSets;1',\n",
       " 'Indices;1',\n",
       " 'Ints;1',\n",
       " 'Floats;1',\n",
       " 'Strings;1',\n",
       " 'TH1Fs;1',\n",
       " 'TH1Ss;1',\n",
       " 'TH1Ds;1',\n",
       " 'TH2Ss;1',\n",
       " 'TH2Ds;1',\n",
       " 'TH3Fs;1',\n",
       " 'TProfiles;1',\n",
       " 'TProfile2Ds;1',\n",
       " 'TH1Is;1',\n",
       " 'TH2Is;1']"
      ]
     },
     "execution_count": 66,
     "metadata": {},
     "output_type": "execute_result"
    }
   ],
   "source": [
    "MLP_EOS_path = \"/eos/project/m/mlplayground/public/DQMIO/nanodqmio_from_das/\"\n",
    "files=os.listdir(MLP_EOS_path)\n",
    "file = uproot.open(f'{MLP_EOS_path}{files[1]}')\n",
    "\n",
    "file.keys()"
   ]
  },
  {
   "cell_type": "code",
   "execution_count": 65,
   "metadata": {},
   "outputs": [
    {
     "data": {
      "text/plain": [
       "(['store_data_Run2022A_ZeroBias_DQMIO_19Jan2023-v2_2550000_B7C5D067-F538-42CE-9261-033D668E62D0.root',\n",
       "  'store_data_Run2022A_ZeroBias_DQMIO_19Jan2023-v2_30000_18BE9BCB-8882-4E60-B021-AE2866470FA8.root',\n",
       "  'store_data_Run2022A_ZeroBias_DQMIO_19Jan2023-v2_30000_23F53374-C49D-4BBA-BAB7-05412999556A.root',\n",
       "  'store_data_Run2022A_ZeroBias_DQMIO_19Jan2023-v2_30000_298E9DED-706B-4E7B-9A84-765AB5B70373.root',\n",
       "  'store_data_Run2022A_ZeroBias_DQMIO_19Jan2023-v2_30000_DD2CC4FA-EF58-49AF-9BFB-F0ABE41BC4F4.root',\n",
       "  'store_data_Run2022B_ZeroBias_DQMIO_19Jan2023-v2_2550000_1B69EB3A-B5E1-4E41-B8E2-AED5346C434C.root',\n",
       "  'store_data_Run2022B_ZeroBias_DQMIO_19Jan2023-v2_2550000_2BB699FA-3C27-4AD9-8196-0B7B65F3AAB2.root',\n",
       "  'store_data_Run2022B_ZeroBias_DQMIO_19Jan2023-v2_2550000_663F833B-0425-4EC4-8DB7-4D53D3DEE728.root',\n",
       "  'store_data_Run2022B_ZeroBias_DQMIO_19Jan2023-v2_2550000_89B9C584-9CCF-4E73-9EF6-FD69B0ECD3B9.root',\n",
       "  'store_data_Run2022B_ZeroBias_DQMIO_19Jan2023-v2_2550000_8B0A0310-4A2D-4153-BF42-3F6A396C3622.root',\n",
       "  'store_data_Run2022B_ZeroBias_DQMIO_19Jan2023-v2_2550000_8F4B4FFB-5245-4C06-A1F0-525870E9DA83.root',\n",
       "  'store_data_Run2022B_ZeroBias_DQMIO_19Jan2023-v2_2550000_9BE1219F-F76E-41AA-B2B6-70E683088D66.root',\n",
       "  'store_data_Run2022B_ZeroBias_DQMIO_19Jan2023-v2_2550000_AE1B99C5-403E-40A1-A06F-620D9C724487.root',\n",
       "  'store_data_Run2022B_ZeroBias_DQMIO_19Jan2023-v2_2550000_BA306EFA-20CD-4656-9442-DE5DB377E5E4.root',\n",
       "  'store_data_Run2022B_ZeroBias_DQMIO_19Jan2023-v2_2550000_CD1B9A0D-1E40-4058-BFC2-B07178D5B31A.root',\n",
       "  'store_data_Run2022B_ZeroBias_DQMIO_19Jan2023-v2_2550000_FC91B007-1909-4201-9D56-E3DAFA79CAA8.root',\n",
       "  'store_data_Run2022B_ZeroBias_DQMIO_19Jan2023-v2_30000_2946B5DA-7867-4823-B759-0EB47ED244A3.root',\n",
       "  'store_data_Run2022B_ZeroBias_DQMIO_19Jan2023-v2_30000_85B17769-07CC-4D99-96A6-0C7638BF23EA.root',\n",
       "  'store_data_Run2022D_ZeroBias_DQMIO_19Jan2023-v2_2550000_AD12D839-BAFE-434A-A417-B11932FA0F7C.root',\n",
       "  'store_data_Run2022D_ZeroBias_DQMIO_19Jan2023-v2_2550000_C31D4D5E-848B-4040-9534-851C05EC3FCB.root',\n",
       "  'store_data_Run2022D_ZeroBias_DQMIO_19Jan2023-v2_30000_65E24798-E323-43BB-AE4E-62E1296624ED.root',\n",
       "  'store_data_Run2022D_ZeroBias_DQMIO_19Jan2023-v2_30000_B884CCEA-905C-4CBD-9D40-6F1D218F0B23.root',\n",
       "  'store_data_Run2022D_ZeroBias_DQMIO_19Jan2023-v2_40000_67290B88-04B8-4225-80EF-DDA0752F7FF7.root',\n",
       "  'store_data_Run2022D_ZeroBias_DQMIO_19Jan2023-v2_40000_78CA1164-625A-4CA3-A91B-CC3CA3032951.root',\n",
       "  'store_data_Run2022D_ZeroBias_DQMIO_19Jan2023-v2_40000_FB45BA33-70BF-4030-9C98-08927D16BA80.root'],\n",
       " 25)"
      ]
     },
     "execution_count": 65,
     "metadata": {},
     "output_type": "execute_result"
    }
   ],
   "source": [
    "files,len(files)"
   ]
  },
  {
   "cell_type": "markdown",
   "metadata": {},
   "source": [
    "## Find the unique set of run numbers present in the eos area"
   ]
  },
  {
   "cell_type": "code",
   "execution_count": 3,
   "metadata": {},
   "outputs": [
    {
     "data": {
      "text/plain": [
       "<Array [352903, 352903, ... 353018, 353018] type='4752 * uint32'>"
      ]
     },
     "execution_count": 3,
     "metadata": {},
     "output_type": "execute_result"
    }
   ],
   "source": [
    "branch=file['Indices'].arrays()\n",
    "branch.Run"
   ]
  },
  {
   "cell_type": "code",
   "execution_count": 58,
   "metadata": {
    "scrolled": true
   },
   "outputs": [],
   "source": [
    "run_numbers=[]\n",
    "\n",
    "for file in uproot.iterate(MLP_EOS_path+'*.root:Indices'):\n",
    "    run_numbers.append(np.unique(file.Run.tolist())) # this will append unique numbers per iteration\n",
    "\n",
    "unique_numbers = list(set(ak.ravel(run_numbers))) # this will return unique run numbers present in all files read"
   ]
  },
  {
   "cell_type": "code",
   "execution_count": 57,
   "metadata": {},
   "outputs": [
    {
     "data": {
      "text/plain": [
       "<Array [352567, 352572, ... 357766, 357769] type='264 * int64'>"
      ]
     },
     "execution_count": 57,
     "metadata": {},
     "output_type": "execute_result"
    }
   ],
   "source": [
    "ak.ravel(run_numbers)"
   ]
  },
  {
   "cell_type": "code",
   "execution_count": 62,
   "metadata": {},
   "outputs": [
    {
     "data": {
      "text/plain": [
       "(164,\n",
       " [352417,\n",
       "  352422,\n",
       "  352425,\n",
       "  352493,\n",
       "  352499,\n",
       "  352503,\n",
       "  352505,\n",
       "  352508,\n",
       "  352509,\n",
       "  352564,\n",
       "  352565,\n",
       "  352566,\n",
       "  352567,\n",
       "  352568,\n",
       "  352572,\n",
       "  352900,\n",
       "  352903,\n",
       "  352906,\n",
       "  352907,\n",
       "  352908,\n",
       "  352909,\n",
       "  352911,\n",
       "  352929,\n",
       "  352930,\n",
       "  352931,\n",
       "  353013,\n",
       "  353014,\n",
       "  353015,\n",
       "  353018,\n",
       "  353060,\n",
       "  353087,\n",
       "  353689,\n",
       "  353701,\n",
       "  353702,\n",
       "  353703,\n",
       "  353704,\n",
       "  353705,\n",
       "  353706,\n",
       "  353707,\n",
       "  353709,\n",
       "  355100,\n",
       "  355101,\n",
       "  355102,\n",
       "  355103,\n",
       "  355104,\n",
       "  355105,\n",
       "  355106,\n",
       "  355107,\n",
       "  355108,\n",
       "  355109,\n",
       "  355110,\n",
       "  355111,\n",
       "  355112,\n",
       "  355113,\n",
       "  355117,\n",
       "  355118,\n",
       "  355119,\n",
       "  355120,\n",
       "  355121,\n",
       "  355122,\n",
       "  355123,\n",
       "  355124,\n",
       "  355127,\n",
       "  355128,\n",
       "  355129,\n",
       "  355130,\n",
       "  355133,\n",
       "  355134,\n",
       "  355135,\n",
       "  355203,\n",
       "  355204,\n",
       "  355205,\n",
       "  355206,\n",
       "  355207,\n",
       "  355208,\n",
       "  355374,\n",
       "  355375,\n",
       "  355376,\n",
       "  355379,\n",
       "  355380,\n",
       "  355381,\n",
       "  355382,\n",
       "  355383,\n",
       "  355404,\n",
       "  355405,\n",
       "  355406,\n",
       "  355407,\n",
       "  355411,\n",
       "  355414,\n",
       "  355415,\n",
       "  355417,\n",
       "  355418,\n",
       "  355419,\n",
       "  355429,\n",
       "  355435,\n",
       "  355437,\n",
       "  355438,\n",
       "  355439,\n",
       "  355441,\n",
       "  355442,\n",
       "  355443,\n",
       "  355444,\n",
       "  355445,\n",
       "  355454,\n",
       "  355455,\n",
       "  355456,\n",
       "  355457,\n",
       "  355463,\n",
       "  355558,\n",
       "  355559,\n",
       "  355679,\n",
       "  355680,\n",
       "  355768,\n",
       "  355769,\n",
       "  357538,\n",
       "  357539,\n",
       "  357540,\n",
       "  357542,\n",
       "  357550,\n",
       "  357610,\n",
       "  357611,\n",
       "  357612,\n",
       "  357613,\n",
       "  357688,\n",
       "  357698,\n",
       "  357700,\n",
       "  357701,\n",
       "  357704,\n",
       "  357705,\n",
       "  357706,\n",
       "  357720,\n",
       "  357733,\n",
       "  357734,\n",
       "  357735,\n",
       "  357754,\n",
       "  357756,\n",
       "  357757,\n",
       "  357758,\n",
       "  357759,\n",
       "  357766,\n",
       "  357767,\n",
       "  357769,\n",
       "  357770,\n",
       "  357802,\n",
       "  357803,\n",
       "  357804,\n",
       "  357805,\n",
       "  357806,\n",
       "  357807,\n",
       "  357808,\n",
       "  357809,\n",
       "  357812,\n",
       "  357813,\n",
       "  357814,\n",
       "  357815,\n",
       "  357886,\n",
       "  357887,\n",
       "  357892,\n",
       "  357894,\n",
       "  357895,\n",
       "  357896,\n",
       "  357897,\n",
       "  357899,\n",
       "  357900])"
      ]
     },
     "execution_count": 62,
     "metadata": {},
     "output_type": "execute_result"
    }
   ],
   "source": [
    "len(unique_numbers),sorted(unique_numbers)"
   ]
  },
  {
   "cell_type": "markdown",
   "metadata": {},
   "source": [
    "Making this process into a function"
   ]
  },
  {
   "cell_type": "code",
   "execution_count": 67,
   "metadata": {},
   "outputs": [],
   "source": [
    "def find_run_numbers(path):\n",
    "    #path = \"/eos/project/m/mlplayground/public/DQMIO/nanodqmio_from_das/\"\n",
    "    files=os.listdir(path)\n",
    "    run_numbers=[]\n",
    "\n",
    "    for file in uproot.iterate(path+'*.root:Indices'):\n",
    "        run_numbers.append(np.unique(file.Run.tolist())) # this will append unique numbers per iteration\n",
    "\n",
    "    unique_numbers = list(set(ak.ravel(run_numbers))) # this will return unique run numbers present in all files read\n",
    "    return unique_numbers"
   ]
  },
  {
   "cell_type": "markdown",
   "metadata": {},
   "source": [
    "## Trying to open the histograms"
   ]
  },
  {
   "cell_type": "code",
   "execution_count": 34,
   "metadata": {},
   "outputs": [
    {
     "name": "stdout",
     "output_type": "stream",
     "text": [
      "cms::edm::GUID;1\n",
      "\n",
      "--------------------TH2Fs;5--------------------\n",
      "name                 | typename                 | interpretation                \n",
      "---------------------+--------------------------+-------------------------------\n",
      "FullName             | std::string              | AsStrings()\n",
      "Flags                | uint32_t                 | AsDtype('>u4')\n",
      "Value                | TH2F                     | AsObjects(AsDynamic(model=M...\n",
      "None\n",
      "--------------------TH2Fs;4--------------------\n",
      "name                 | typename                 | interpretation                \n",
      "---------------------+--------------------------+-------------------------------\n",
      "FullName             | std::string              | AsStrings()\n",
      "Flags                | uint32_t                 | AsDtype('>u4')\n",
      "Value                | TH2F                     | AsObjects(AsDynamic(model=M...\n",
      "None\n",
      "MetaData;1\n",
      "\n",
      "MetaData/ProcessHistories;1\n",
      "\n",
      "MetaData/ParameterSets;1\n",
      "\n",
      "--------------------Indices;1--------------------\n",
      "name                 | typename                 | interpretation                \n",
      "---------------------+--------------------------+-------------------------------\n",
      "Run                  | uint32_t                 | AsDtype('>u4')\n",
      "Lumi                 | uint32_t                 | AsDtype('>u4')\n",
      "ProcessHistoryIndex  | uint32_t                 | AsDtype('>u4')\n",
      "BeginTime            | uint64_t                 | AsDtype('>u8')\n",
      "EndTime              | uint64_t                 | AsDtype('>u8')\n",
      "Type                 | uint32_t                 | AsDtype('>u4')\n",
      "FirstIndex           | uint64_t                 | AsDtype('>u8')\n",
      "LastIndex            | uint64_t                 | AsDtype('>u8')\n",
      "None\n",
      "--------------------Ints;1--------------------\n",
      "name                 | typename                 | interpretation                \n",
      "---------------------+--------------------------+-------------------------------\n",
      "FullName             | std::string              | AsStrings()\n",
      "Flags                | uint32_t                 | AsDtype('>u4')\n",
      "Value                | int64_t                  | AsDtype('>i8')\n",
      "None\n",
      "--------------------Floats;1--------------------\n",
      "name                 | typename                 | interpretation                \n",
      "---------------------+--------------------------+-------------------------------\n",
      "FullName             | std::string              | AsStrings()\n",
      "Flags                | uint32_t                 | AsDtype('>u4')\n",
      "Value                | double                   | AsDtype('>f8')\n",
      "None\n",
      "--------------------Strings;1--------------------\n",
      "name                 | typename                 | interpretation                \n",
      "---------------------+--------------------------+-------------------------------\n",
      "FullName             | std::string              | AsStrings()\n",
      "Flags                | uint32_t                 | AsDtype('>u4')\n",
      "Value                | std::string              | AsStrings()\n",
      "None\n",
      "--------------------TH1Fs;1--------------------\n",
      "name                 | typename                 | interpretation                \n",
      "---------------------+--------------------------+-------------------------------\n",
      "FullName             | std::string              | AsStrings()\n",
      "Flags                | uint32_t                 | AsDtype('>u4')\n",
      "Value                | TH1F                     | AsObjects(Model_TH1F)\n",
      "None\n",
      "--------------------TH1Ss;1--------------------\n",
      "name                 | typename                 | interpretation                \n",
      "---------------------+--------------------------+-------------------------------\n",
      "FullName             | std::string              | AsStrings()\n",
      "Flags                | uint32_t                 | AsDtype('>u4')\n",
      "Value                | TH1S                     | AsObjects(Model_TH1S)\n",
      "None\n",
      "--------------------TH1Ds;1--------------------\n",
      "name                 | typename                 | interpretation                \n",
      "---------------------+--------------------------+-------------------------------\n",
      "FullName             | std::string              | AsStrings()\n",
      "Flags                | uint32_t                 | AsDtype('>u4')\n",
      "Value                | TH1D                     | AsObjects(Model_TH1D)\n",
      "None\n",
      "--------------------TH2Ss;1--------------------\n",
      "name                 | typename                 | interpretation                \n",
      "---------------------+--------------------------+-------------------------------\n",
      "FullName             | std::string              | AsStrings()\n",
      "Flags                | uint32_t                 | AsDtype('>u4')\n",
      "Value                | TH2S                     | AsObjects(AsDynamic(model=M...\n",
      "None\n",
      "--------------------TH2Ds;1--------------------\n",
      "name                 | typename                 | interpretation                \n",
      "---------------------+--------------------------+-------------------------------\n",
      "FullName             | std::string              | AsStrings()\n",
      "Flags                | uint32_t                 | AsDtype('>u4')\n",
      "Value                | TH2D                     | AsObjects(AsDynamic(model=M...\n",
      "None\n",
      "--------------------TH3Fs;1--------------------\n",
      "name                 | typename                 | interpretation                \n",
      "---------------------+--------------------------+-------------------------------\n",
      "FullName             | std::string              | AsStrings()\n",
      "Flags                | uint32_t                 | AsDtype('>u4')\n",
      "Value                | TH3F                     | AsObjects(AsDynamic(model=M...\n",
      "None\n",
      "--------------------TProfiles;1--------------------\n",
      "name                 | typename                 | interpretation                \n",
      "---------------------+--------------------------+-------------------------------\n",
      "FullName             | std::string              | AsStrings()\n",
      "Flags                | uint32_t                 | AsDtype('>u4')\n",
      "Value                | TProfile                 | AsObjects(AsDynamic(model=M...\n",
      "None\n",
      "--------------------TProfile2Ds;1--------------------\n",
      "name                 | typename                 | interpretation                \n",
      "---------------------+--------------------------+-------------------------------\n",
      "FullName             | std::string              | AsStrings()\n",
      "Flags                | uint32_t                 | AsDtype('>u4')\n",
      "Value                | TProfile2D               | AsObjects(AsDynamic(model=M...\n",
      "None\n",
      "--------------------TH1Is;1--------------------\n",
      "name                 | typename                 | interpretation                \n",
      "---------------------+--------------------------+-------------------------------\n",
      "FullName             | std::string              | AsStrings()\n",
      "Flags                | uint32_t                 | AsDtype('>u4')\n",
      "Value                | TH1I                     | AsObjects(Model_TH1I)\n",
      "None\n",
      "--------------------TH2Is;1--------------------\n",
      "name                 | typename                 | interpretation                \n",
      "---------------------+--------------------------+-------------------------------\n",
      "FullName             | std::string              | AsStrings()\n",
      "Flags                | uint32_t                 | AsDtype('>u4')\n",
      "Value                | TH2I                     | AsObjects(Model_TH2I)\n",
      "None\n"
     ]
    }
   ],
   "source": [
    "for indx,key in enumerate(file):\n",
    "    if indx == 0 or 'Meta' in key: \n",
    "        print(key+'\\n') \n",
    "        continue\n",
    "    print('--'*10+key+'--'*10)\n",
    "    print(file[key].show())"
   ]
  },
  {
   "cell_type": "code",
   "execution_count": 35,
   "metadata": {},
   "outputs": [
    {
     "name": "stdout",
     "output_type": "stream",
     "text": [
      "name                 | typename                 | interpretation                \n",
      "---------------------+--------------------------+-------------------------------\n",
      "FullName             | std::string              | AsStrings()\n",
      "Flags                | uint32_t                 | AsDtype('>u4')\n",
      "Value                | TH1F                     | AsObjects(Model_TH1F)\n"
     ]
    }
   ],
   "source": [
    "th1fs = file['TH1Fs']\n",
    "th1fs.show()"
   ]
  },
  {
   "cell_type": "code",
   "execution_count": 41,
   "metadata": {},
   "outputs": [
    {
     "data": {
      "text/plain": [
       "<Array [...] type='153252 * {\"FullName\": string}'>"
      ]
     },
     "execution_count": 41,
     "metadata": {},
     "output_type": "execute_result"
    }
   ],
   "source": [
    "th1fs['FullName"
   ]
  },
  {
   "cell_type": "code",
   "execution_count": null,
   "metadata": {},
   "outputs": [],
   "source": []
  }
 ],
 "metadata": {
  "kernelspec": {
   "display_name": "Python 3",
   "language": "python",
   "name": "python3"
  },
  "language_info": {
   "codemirror_mode": {
    "name": "ipython",
    "version": 3
   },
   "file_extension": ".py",
   "mimetype": "text/x-python",
   "name": "python",
   "nbconvert_exporter": "python",
   "pygments_lexer": "ipython3",
   "version": "3.9.12"
  }
 },
 "nbformat": 4,
 "nbformat_minor": 2
}
